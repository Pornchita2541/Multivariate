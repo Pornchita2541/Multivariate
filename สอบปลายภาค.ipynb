{
  "nbformat": 4,
  "nbformat_minor": 0,
  "metadata": {
    "colab": {
      "name": "สอบปลายภาค.ipynb",
      "provenance": [],
      "authorship_tag": "ABX9TyPHvtsHZJXf6jBmyFlgwE7j",
      "include_colab_link": true
    },
    "kernelspec": {
      "name": "python3",
      "display_name": "Python 3"
    },
    "language_info": {
      "name": "python"
    }
  },
  "cells": [
    {
      "cell_type": "markdown",
      "metadata": {
        "id": "view-in-github",
        "colab_type": "text"
      },
      "source": [
        "<a href=\"https://colab.research.google.com/github/Pornchita2541/Multivariate/blob/main/%E0%B8%AA%E0%B8%AD%E0%B8%9A%E0%B8%9B%E0%B8%A5%E0%B8%B2%E0%B8%A2%E0%B8%A0%E0%B8%B2%E0%B8%84.ipynb\" target=\"_parent\"><img src=\"https://colab.research.google.com/assets/colab-badge.svg\" alt=\"Open In Colab\"/></a>"
      ]
    },
    {
      "cell_type": "markdown",
      "metadata": {
        "id": "UVibxYiJb7zi"
      },
      "source": [
        "ให้นักศึกษาทำข้อสอบใน Colab Notebook นี้โดยกรอกข้อมูลของตัวเองใน cell ที่ 2 แล้วรัน cell ที่ 1 - 5 และเริ่มทำข้อสอบใน cell ที่ 6 เป็นต้นไป\n",
        "\n",
        "โดยโจทย์คือ\n",
        "1. ข้อมูลโจทย์ อยู่ใน ตัวแปร ```Data```\n",
        "2. ทำ clustering แล้วทำ visualize ข้อมูลแบบ 2 มิติ\n",
        "3. ลด Dimension ของข้อมูลเหลือ 2 มิติ แล้วทำ clustering แล้ว visualize ข้อมูลแบบ 2 มิติ\n",
        "4. เปรียบเทียบความแตกต่างของผลข้อ 2. กับ ข้อ 3.\n",
        "5. เขียน comments อธิบายทุกขั้นตอน\n",
        "6. อัด video อธิบาย code ทุกๆขั้นตอนรวมถึงผลแล้วอัพลง youtube ในรูปแบบ unlist \n",
        "7. commit โดยใช้ชื่อ commit เป็น link youtube ที่อธิบาย code ในข้อ 6.\n",
        "\n",
        "กำหนดส่งวันที่ 2 พฤษภาคม 2564 (โดยให้มากรอกวันที่ commit ครั้งสุดท้ายใน sheet: https://docs.google.com/spreadsheets/d/1_qJwLDJVtOW1HxBcf_FHVc6UT4J_SOonuR6o3EEnVzw/edit?usp=sharing ช่อง Final)"
      ]
    },
    {
      "cell_type": "code",
      "metadata": {
        "id": "1dMk1zjWbaiu"
      },
      "source": [
        "from sklearn.datasets import make_blobs\n",
        "import random,math\n",
        "import numpy as np\n",
        "import pandas"
      ],
      "execution_count": 24,
      "outputs": []
    },
    {
      "cell_type": "code",
      "metadata": {
        "id": "_cHbfsY1cEmE"
      },
      "source": [
        "Name = 'พรชิตา แสนจันทร์'\n",
        "ID = '603021828-5'"
      ],
      "execution_count": 25,
      "outputs": []
    },
    {
      "cell_type": "code",
      "metadata": {
        "id": "fXgthTYYcO9m"
      },
      "source": [
        "def DataGenerator(name,id):\n",
        "    random.seed(int(id[3:6]))\n",
        "    numfeat = random.randint(20,30)\n",
        "    ct = random.randint(len(name)-6,len(name))\n",
        "    \n",
        "    X, y = make_blobs(n_samples=10000, centers=ct, n_features=numfeat , random_state=int(id[3:6]))\n",
        "\n",
        "    print(f'{id[3:6]}:{numfeat}:{ct}')\n",
        "    X_t = (X[:,1]*2)+int(id[3])\n",
        "    X_t2 = (X[:,-1]*5)+int(id[4])\n",
        "\n",
        "    DT = np.append(X,X_t.reshape([10000,1]),axis=1)\n",
        "    DT = np.append(DT,X_t2.reshape([10000,1]),axis=1)\n",
        "    \n",
        "    return pandas.DataFrame(DT)"
      ],
      "execution_count": 26,
      "outputs": []
    },
    {
      "cell_type": "code",
      "metadata": {
        "colab": {
          "base_uri": "https://localhost:8080/"
        },
        "id": "zSakD6fidWU9",
        "outputId": "fd264d8a-4cd7-4e56-a4eb-bfc68b5c72fc"
      },
      "source": [
        "Data = DataGenerator(Name,ID)"
      ],
      "execution_count": 27,
      "outputs": [
        {
          "output_type": "stream",
          "text": [
            "021:22:13\n"
          ],
          "name": "stdout"
        }
      ]
    },
    {
      "cell_type": "code",
      "metadata": {
        "colab": {
          "base_uri": "https://localhost:8080/",
          "height": 439
        },
        "id": "B5uixBDndnIF",
        "outputId": "c1f6163e-bc62-4957-99db-0e8a082d29a3"
      },
      "source": [
        "Data"
      ],
      "execution_count": 28,
      "outputs": [
        {
          "output_type": "execute_result",
          "data": {
            "text/html": [
              "<div>\n",
              "<style scoped>\n",
              "    .dataframe tbody tr th:only-of-type {\n",
              "        vertical-align: middle;\n",
              "    }\n",
              "\n",
              "    .dataframe tbody tr th {\n",
              "        vertical-align: top;\n",
              "    }\n",
              "\n",
              "    .dataframe thead th {\n",
              "        text-align: right;\n",
              "    }\n",
              "</style>\n",
              "<table border=\"1\" class=\"dataframe\">\n",
              "  <thead>\n",
              "    <tr style=\"text-align: right;\">\n",
              "      <th></th>\n",
              "      <th>0</th>\n",
              "      <th>1</th>\n",
              "      <th>2</th>\n",
              "      <th>3</th>\n",
              "      <th>4</th>\n",
              "      <th>5</th>\n",
              "      <th>6</th>\n",
              "      <th>7</th>\n",
              "      <th>8</th>\n",
              "      <th>9</th>\n",
              "      <th>10</th>\n",
              "      <th>11</th>\n",
              "      <th>12</th>\n",
              "      <th>13</th>\n",
              "      <th>14</th>\n",
              "      <th>15</th>\n",
              "      <th>16</th>\n",
              "      <th>17</th>\n",
              "      <th>18</th>\n",
              "      <th>19</th>\n",
              "      <th>20</th>\n",
              "      <th>21</th>\n",
              "      <th>22</th>\n",
              "      <th>23</th>\n",
              "    </tr>\n",
              "  </thead>\n",
              "  <tbody>\n",
              "    <tr>\n",
              "      <th>0</th>\n",
              "      <td>-0.753628</td>\n",
              "      <td>-1.025994</td>\n",
              "      <td>-5.952946</td>\n",
              "      <td>-0.400472</td>\n",
              "      <td>6.799086</td>\n",
              "      <td>7.113557</td>\n",
              "      <td>1.559397</td>\n",
              "      <td>9.424892</td>\n",
              "      <td>-6.620534</td>\n",
              "      <td>1.503246</td>\n",
              "      <td>-8.336819</td>\n",
              "      <td>-6.869254</td>\n",
              "      <td>-0.941849</td>\n",
              "      <td>3.779754</td>\n",
              "      <td>-3.724184</td>\n",
              "      <td>2.044814</td>\n",
              "      <td>7.756093</td>\n",
              "      <td>6.770531</td>\n",
              "      <td>1.302341</td>\n",
              "      <td>4.464965</td>\n",
              "      <td>-1.980008</td>\n",
              "      <td>2.484954</td>\n",
              "      <td>-2.051989</td>\n",
              "      <td>14.424771</td>\n",
              "    </tr>\n",
              "    <tr>\n",
              "      <th>1</th>\n",
              "      <td>-0.406066</td>\n",
              "      <td>-4.990092</td>\n",
              "      <td>7.309898</td>\n",
              "      <td>-2.972503</td>\n",
              "      <td>-5.321833</td>\n",
              "      <td>-4.422716</td>\n",
              "      <td>2.401294</td>\n",
              "      <td>-5.792368</td>\n",
              "      <td>-5.678925</td>\n",
              "      <td>5.805411</td>\n",
              "      <td>2.157975</td>\n",
              "      <td>6.389343</td>\n",
              "      <td>7.792260</td>\n",
              "      <td>-4.714322</td>\n",
              "      <td>1.959602</td>\n",
              "      <td>-7.166392</td>\n",
              "      <td>7.620671</td>\n",
              "      <td>6.508650</td>\n",
              "      <td>3.228711</td>\n",
              "      <td>-6.562059</td>\n",
              "      <td>8.622149</td>\n",
              "      <td>-8.245622</td>\n",
              "      <td>-9.980184</td>\n",
              "      <td>-39.228112</td>\n",
              "    </tr>\n",
              "    <tr>\n",
              "      <th>2</th>\n",
              "      <td>-3.744933</td>\n",
              "      <td>-3.480937</td>\n",
              "      <td>-9.227205</td>\n",
              "      <td>7.087691</td>\n",
              "      <td>6.545563</td>\n",
              "      <td>7.950522</td>\n",
              "      <td>8.633959</td>\n",
              "      <td>-8.946822</td>\n",
              "      <td>8.130434</td>\n",
              "      <td>-7.446542</td>\n",
              "      <td>9.981436</td>\n",
              "      <td>4.757383</td>\n",
              "      <td>7.643014</td>\n",
              "      <td>4.933556</td>\n",
              "      <td>7.711823</td>\n",
              "      <td>5.000035</td>\n",
              "      <td>7.961539</td>\n",
              "      <td>-9.364339</td>\n",
              "      <td>3.651569</td>\n",
              "      <td>7.232914</td>\n",
              "      <td>7.921016</td>\n",
              "      <td>-9.416149</td>\n",
              "      <td>-6.961873</td>\n",
              "      <td>-45.080747</td>\n",
              "    </tr>\n",
              "    <tr>\n",
              "      <th>3</th>\n",
              "      <td>10.013564</td>\n",
              "      <td>6.630884</td>\n",
              "      <td>2.007275</td>\n",
              "      <td>-0.697779</td>\n",
              "      <td>8.702782</td>\n",
              "      <td>2.804571</td>\n",
              "      <td>-10.116233</td>\n",
              "      <td>2.961177</td>\n",
              "      <td>0.213988</td>\n",
              "      <td>0.079192</td>\n",
              "      <td>-0.001249</td>\n",
              "      <td>-3.793305</td>\n",
              "      <td>-4.537488</td>\n",
              "      <td>4.974167</td>\n",
              "      <td>3.239741</td>\n",
              "      <td>-6.347649</td>\n",
              "      <td>6.271382</td>\n",
              "      <td>5.176364</td>\n",
              "      <td>5.950714</td>\n",
              "      <td>-4.921763</td>\n",
              "      <td>-3.909779</td>\n",
              "      <td>-4.697175</td>\n",
              "      <td>13.261768</td>\n",
              "      <td>-21.485877</td>\n",
              "    </tr>\n",
              "    <tr>\n",
              "      <th>4</th>\n",
              "      <td>1.928254</td>\n",
              "      <td>-4.101280</td>\n",
              "      <td>-1.721024</td>\n",
              "      <td>-5.418081</td>\n",
              "      <td>-9.189113</td>\n",
              "      <td>5.237051</td>\n",
              "      <td>4.085843</td>\n",
              "      <td>-8.798299</td>\n",
              "      <td>-4.952839</td>\n",
              "      <td>-4.194099</td>\n",
              "      <td>4.983857</td>\n",
              "      <td>-1.180567</td>\n",
              "      <td>-1.199833</td>\n",
              "      <td>-3.460760</td>\n",
              "      <td>1.957475</td>\n",
              "      <td>8.558564</td>\n",
              "      <td>9.340650</td>\n",
              "      <td>-8.856825</td>\n",
              "      <td>-0.843829</td>\n",
              "      <td>-9.522416</td>\n",
              "      <td>6.826698</td>\n",
              "      <td>4.407135</td>\n",
              "      <td>-8.202561</td>\n",
              "      <td>24.035674</td>\n",
              "    </tr>\n",
              "    <tr>\n",
              "      <th>...</th>\n",
              "      <td>...</td>\n",
              "      <td>...</td>\n",
              "      <td>...</td>\n",
              "      <td>...</td>\n",
              "      <td>...</td>\n",
              "      <td>...</td>\n",
              "      <td>...</td>\n",
              "      <td>...</td>\n",
              "      <td>...</td>\n",
              "      <td>...</td>\n",
              "      <td>...</td>\n",
              "      <td>...</td>\n",
              "      <td>...</td>\n",
              "      <td>...</td>\n",
              "      <td>...</td>\n",
              "      <td>...</td>\n",
              "      <td>...</td>\n",
              "      <td>...</td>\n",
              "      <td>...</td>\n",
              "      <td>...</td>\n",
              "      <td>...</td>\n",
              "      <td>...</td>\n",
              "      <td>...</td>\n",
              "      <td>...</td>\n",
              "    </tr>\n",
              "    <tr>\n",
              "      <th>9995</th>\n",
              "      <td>-2.557160</td>\n",
              "      <td>8.750409</td>\n",
              "      <td>-3.806598</td>\n",
              "      <td>4.660577</td>\n",
              "      <td>9.525657</td>\n",
              "      <td>2.533091</td>\n",
              "      <td>-4.833330</td>\n",
              "      <td>9.897642</td>\n",
              "      <td>-1.633843</td>\n",
              "      <td>8.932021</td>\n",
              "      <td>-8.232509</td>\n",
              "      <td>9.334778</td>\n",
              "      <td>3.937638</td>\n",
              "      <td>-10.007822</td>\n",
              "      <td>3.571218</td>\n",
              "      <td>-3.765515</td>\n",
              "      <td>-0.244325</td>\n",
              "      <td>-1.556678</td>\n",
              "      <td>-8.211115</td>\n",
              "      <td>6.106192</td>\n",
              "      <td>11.497584</td>\n",
              "      <td>1.575652</td>\n",
              "      <td>17.500817</td>\n",
              "      <td>9.878261</td>\n",
              "    </tr>\n",
              "    <tr>\n",
              "      <th>9996</th>\n",
              "      <td>6.699291</td>\n",
              "      <td>-1.067502</td>\n",
              "      <td>5.385884</td>\n",
              "      <td>6.435232</td>\n",
              "      <td>5.357716</td>\n",
              "      <td>7.031969</td>\n",
              "      <td>4.234862</td>\n",
              "      <td>-1.799274</td>\n",
              "      <td>-3.448120</td>\n",
              "      <td>6.113983</td>\n",
              "      <td>-5.703465</td>\n",
              "      <td>-3.295631</td>\n",
              "      <td>-5.776246</td>\n",
              "      <td>1.241216</td>\n",
              "      <td>7.677021</td>\n",
              "      <td>-4.283344</td>\n",
              "      <td>7.284623</td>\n",
              "      <td>7.929664</td>\n",
              "      <td>2.893910</td>\n",
              "      <td>-3.342555</td>\n",
              "      <td>6.219801</td>\n",
              "      <td>-0.685775</td>\n",
              "      <td>-2.135004</td>\n",
              "      <td>-1.428873</td>\n",
              "    </tr>\n",
              "    <tr>\n",
              "      <th>9997</th>\n",
              "      <td>4.287949</td>\n",
              "      <td>-0.627294</td>\n",
              "      <td>7.709861</td>\n",
              "      <td>3.167397</td>\n",
              "      <td>-6.658936</td>\n",
              "      <td>-5.596329</td>\n",
              "      <td>7.394752</td>\n",
              "      <td>-3.651045</td>\n",
              "      <td>-1.395186</td>\n",
              "      <td>-8.872767</td>\n",
              "      <td>3.532006</td>\n",
              "      <td>4.955257</td>\n",
              "      <td>8.291748</td>\n",
              "      <td>-5.823316</td>\n",
              "      <td>7.279068</td>\n",
              "      <td>-8.430987</td>\n",
              "      <td>-0.768754</td>\n",
              "      <td>-2.188961</td>\n",
              "      <td>0.102604</td>\n",
              "      <td>0.003926</td>\n",
              "      <td>1.140420</td>\n",
              "      <td>1.856363</td>\n",
              "      <td>-1.254588</td>\n",
              "      <td>11.281813</td>\n",
              "    </tr>\n",
              "    <tr>\n",
              "      <th>9998</th>\n",
              "      <td>9.093126</td>\n",
              "      <td>-4.949346</td>\n",
              "      <td>-3.852101</td>\n",
              "      <td>6.727662</td>\n",
              "      <td>-4.630706</td>\n",
              "      <td>3.074760</td>\n",
              "      <td>8.358431</td>\n",
              "      <td>-8.279913</td>\n",
              "      <td>5.322937</td>\n",
              "      <td>-9.499148</td>\n",
              "      <td>0.488962</td>\n",
              "      <td>-1.874346</td>\n",
              "      <td>3.886551</td>\n",
              "      <td>5.288563</td>\n",
              "      <td>-9.829219</td>\n",
              "      <td>-8.956823</td>\n",
              "      <td>2.770698</td>\n",
              "      <td>4.135902</td>\n",
              "      <td>-7.209421</td>\n",
              "      <td>0.865682</td>\n",
              "      <td>-6.908635</td>\n",
              "      <td>-1.107784</td>\n",
              "      <td>-9.898693</td>\n",
              "      <td>-3.538922</td>\n",
              "    </tr>\n",
              "    <tr>\n",
              "      <th>9999</th>\n",
              "      <td>-0.113553</td>\n",
              "      <td>8.480108</td>\n",
              "      <td>-3.455053</td>\n",
              "      <td>6.918409</td>\n",
              "      <td>9.082834</td>\n",
              "      <td>4.574444</td>\n",
              "      <td>-5.020262</td>\n",
              "      <td>9.623760</td>\n",
              "      <td>-4.041526</td>\n",
              "      <td>8.242138</td>\n",
              "      <td>-6.774013</td>\n",
              "      <td>10.137048</td>\n",
              "      <td>4.921141</td>\n",
              "      <td>-8.714128</td>\n",
              "      <td>2.740963</td>\n",
              "      <td>-6.304805</td>\n",
              "      <td>0.176690</td>\n",
              "      <td>0.114227</td>\n",
              "      <td>-8.515865</td>\n",
              "      <td>6.774051</td>\n",
              "      <td>9.605381</td>\n",
              "      <td>0.317423</td>\n",
              "      <td>16.960216</td>\n",
              "      <td>3.587115</td>\n",
              "    </tr>\n",
              "  </tbody>\n",
              "</table>\n",
              "<p>10000 rows × 24 columns</p>\n",
              "</div>"
            ],
            "text/plain": [
              "             0         1         2   ...        21         22         23\n",
              "0     -0.753628 -1.025994 -5.952946  ...  2.484954  -2.051989  14.424771\n",
              "1     -0.406066 -4.990092  7.309898  ... -8.245622  -9.980184 -39.228112\n",
              "2     -3.744933 -3.480937 -9.227205  ... -9.416149  -6.961873 -45.080747\n",
              "3     10.013564  6.630884  2.007275  ... -4.697175  13.261768 -21.485877\n",
              "4      1.928254 -4.101280 -1.721024  ...  4.407135  -8.202561  24.035674\n",
              "...         ...       ...       ...  ...       ...        ...        ...\n",
              "9995  -2.557160  8.750409 -3.806598  ...  1.575652  17.500817   9.878261\n",
              "9996   6.699291 -1.067502  5.385884  ... -0.685775  -2.135004  -1.428873\n",
              "9997   4.287949 -0.627294  7.709861  ...  1.856363  -1.254588  11.281813\n",
              "9998   9.093126 -4.949346 -3.852101  ... -1.107784  -9.898693  -3.538922\n",
              "9999  -0.113553  8.480108 -3.455053  ...  0.317423  16.960216   3.587115\n",
              "\n",
              "[10000 rows x 24 columns]"
            ]
          },
          "metadata": {
            "tags": []
          },
          "execution_count": 28
        }
      ]
    },
    {
      "cell_type": "markdown",
      "metadata": {
        "id": "oG9bCAs-wiAW"
      },
      "source": [
        "# 2. ทำ clustering แล้วทำ visualize ข้อมูลแบบ 2 มิติ"
      ]
    },
    {
      "cell_type": "markdown",
      "metadata": {
        "id": "nvMVxCASfKEd"
      },
      "source": [
        "## Kmean"
      ]
    },
    {
      "cell_type": "markdown",
      "metadata": {
        "id": "_xlWYQOkfPAt"
      },
      "source": [
        "### Import"
      ]
    },
    {
      "cell_type": "code",
      "metadata": {
        "id": "-g8k0gSveM_G"
      },
      "source": [
        "from sklearn.cluster import KMeans"
      ],
      "execution_count": 45,
      "outputs": []
    },
    {
      "cell_type": "markdown",
      "metadata": {
        "id": "CBx9mtDYfWpQ"
      },
      "source": [
        "### Define"
      ]
    },
    {
      "cell_type": "code",
      "metadata": {
        "id": "IU7-2R9kfWK1"
      },
      "source": [
        "kmeans = KMeans(n_clusters=10, random_state=2021)"
      ],
      "execution_count": 46,
      "outputs": []
    },
    {
      "cell_type": "markdown",
      "metadata": {
        "id": "E96Yie7jgBVv"
      },
      "source": [
        "### Fit - Transform"
      ]
    },
    {
      "cell_type": "markdown",
      "metadata": {
        "id": "q0cC8jFsgGZ5"
      },
      "source": [
        "คำนวณหาจุด cluter centers ของข้อมูล Data ด้วยวิธี K-means clustering"
      ]
    },
    {
      "cell_type": "code",
      "metadata": {
        "colab": {
          "base_uri": "https://localhost:8080/"
        },
        "id": "2h8NOQ7fgCm1",
        "outputId": "fdb17970-5a0c-485d-9936-0dd84c379b6b"
      },
      "source": [
        "kmeans.fit(Data)"
      ],
      "execution_count": 47,
      "outputs": [
        {
          "output_type": "execute_result",
          "data": {
            "text/plain": [
              "KMeans(algorithm='auto', copy_x=True, init='k-means++', max_iter=300,\n",
              "       n_clusters=10, n_init=10, n_jobs=None, precompute_distances='auto',\n",
              "       random_state=2021, tol=0.0001, verbose=0)"
            ]
          },
          "metadata": {
            "tags": []
          },
          "execution_count": 47
        }
      ]
    },
    {
      "cell_type": "markdown",
      "metadata": {
        "id": "YYzWjTVfgYkU"
      },
      "source": [
        "แสดง จุด cluster centers ที่คำนวณออกมาได้"
      ]
    },
    {
      "cell_type": "code",
      "metadata": {
        "colab": {
          "base_uri": "https://localhost:8080/"
        },
        "id": "0YpOmPzKgZdi",
        "outputId": "a40903dc-5929-4a1a-ff17-6048d70ad717"
      },
      "source": [
        "kmeans.cluster_centers_"
      ],
      "execution_count": 48,
      "outputs": [
        {
          "output_type": "execute_result",
          "data": {
            "text/plain": [
              "array([[  1.48101727,   1.18697393,   2.58357852,   3.00109487,\n",
              "         -3.99907418,  -6.65830836,   7.01037769,  -2.75467817,\n",
              "         -5.19334208,  -9.22740793,   0.89516701,  -0.65776628,\n",
              "          6.03462981,  -7.39314503,  -1.3779482 ,  -7.35475672,\n",
              "          1.75703954,   0.84756552,   4.31282025,   3.14691158,\n",
              "         -2.37404136,   0.3289872 ,   2.37394786,   3.64493598],\n",
              "       [ -0.06067185,  -4.53581397,   6.12918775,  -3.19298016,\n",
              "         -6.08185648,  -3.12765862,   3.41379024,  -4.36272475,\n",
              "         -4.6641072 ,   7.64561515,   0.74237739,   4.8902335 ,\n",
              "          7.94007407,  -4.50835662,   0.70906296,  -7.43110465,\n",
              "          9.2158218 ,   6.23526632,   2.96162948,  -5.98268183,\n",
              "          9.34625507,  -9.21402095,  -9.07162794, -44.07010474],\n",
              "       [  0.84757991,  -4.15780985,  -2.53912724,  -4.61926509,\n",
              "         -8.12579056,   5.01822721,   4.68434895,  -9.90515732,\n",
              "         -5.19789535,  -4.64930845,   5.79358369,   0.16892785,\n",
              "         -0.67004108,  -4.72691403,   2.12908832,   7.47362961,\n",
              "          9.84231428,  -9.44395144,   0.50209215,  -9.11002425,\n",
              "          6.84521494,   2.71950654,  -8.3156197 ,  15.59753272],\n",
              "       [  7.91538227,   8.56607215,   2.35763788,  -7.16973491,\n",
              "         -7.255837  ,  -2.57915622,  -7.75556181,   0.23884102,\n",
              "         -4.82906561,  -7.81310029,  -6.18602377,  -3.47071911,\n",
              "          3.29672461,  -3.76440694,   0.46359125,  -3.36548069,\n",
              "         -8.34211522,  -8.28762815,  -4.97853978,  -5.61634042,\n",
              "         -8.79857819,   5.58009022,  17.13214429,  29.90045112],\n",
              "       [ -3.07890375,   7.96946999,   2.37030142,   5.36402563,\n",
              "          4.91207944,  -1.33258532,  -4.00464528,   2.49596303,\n",
              "         -2.78114946,   4.14811549,  -3.23198791,   1.53232511,\n",
              "          5.50134061,  -2.25752449,   5.09941942,  -5.06143191,\n",
              "          1.34649673,   1.61532973,  -5.00143275,   2.17676083,\n",
              "          7.71112442,   1.91559245,  15.93893998,  11.57796227],\n",
              "       [  3.74116121,   0.73285944,   0.55731693,   2.92080862,\n",
              "          6.25073615,   8.67382431,   3.69820668,   3.70498389,\n",
              "         -5.48059703,   2.67749975,  -7.69002849,  -4.15331141,\n",
              "         -2.36299189,   2.71860965,   1.57399267,  -0.36288678,\n",
              "          6.87914666,   5.48989328,   2.37527868,  -0.53546752,\n",
              "          1.50087478,   0.82351655,   1.46571888,   6.11758274],\n",
              "       [ -2.03435667,  -3.86742834,  -8.8112807 ,   7.93738095,\n",
              "          8.2304598 ,   9.07578978,   8.33102765,  -9.37712309,\n",
              "          7.51822814,  -9.15374862,   9.63949746,   5.17925634,\n",
              "          7.91751505,   5.07247407,   8.07429795,   4.79945688,\n",
              "          8.09149461,  -9.41081577,   3.64139144,   6.87812685,\n",
              "          7.73611305,  -9.27071327,  -7.73485668, -44.35356633],\n",
              "       [  9.58704508,   6.85531892,   3.75266413,  -0.75990955,\n",
              "          8.34204602,   4.61357991,  -9.92762491,   3.40265023,\n",
              "          1.58872581,  -0.42112977,  -1.27958586,  -2.78460786,\n",
              "         -4.28066776,   5.39199026,   4.31301383,  -6.7579889 ,\n",
              "          5.26901041,   5.77387937,   4.80361163,  -5.44686469,\n",
              "         -3.44779651,  -4.49551352,  13.71063784, -20.4775676 ],\n",
              "       [ -9.04556034,  -4.20338028,   4.43760642,  -9.55192163,\n",
              "         -5.85505346,  -9.01900041,  -4.01818017,   3.30931433,\n",
              "         -3.7745782 ,   1.68396156,  -8.58256164,   7.40168132,\n",
              "         -7.330145  ,  -6.36524493,  -0.12610832,   7.3613329 ,\n",
              "          5.19464863,   9.40611585,   5.16972008,  -2.29941805,\n",
              "         -1.83378359,   4.28624118,  -8.40676056,  23.43120591],\n",
              "       [  8.60154426,  -5.07806923,  -5.79755965,   6.31745799,\n",
              "         -3.93652857,   3.53192024,   8.48417706,  -8.62358539,\n",
              "          5.70184441,  -9.33811735,   0.17084914,  -1.25926951,\n",
              "          3.76037894,   5.62637865,  -9.08282608,  -8.53720914,\n",
              "          2.15837269,   4.2714886 ,  -6.95987639,   2.23426825,\n",
              "         -7.03705206,  -0.78324243, -10.15613846,  -1.91621215]])"
            ]
          },
          "metadata": {
            "tags": []
          },
          "execution_count": 48
        }
      ]
    },
    {
      "cell_type": "markdown",
      "metadata": {
        "id": "A2V6CyBKglis"
      },
      "source": [
        "ทำสอบการจัดกลุ่มของ Data"
      ]
    },
    {
      "cell_type": "code",
      "metadata": {
        "colab": {
          "base_uri": "https://localhost:8080/"
        },
        "id": "vDn0Wbb-gmlQ",
        "outputId": "087096ad-5c68-40a5-d16c-c101b1dccba2"
      },
      "source": [
        "y = kmeans.predict(Data)\n",
        "y"
      ],
      "execution_count": 49,
      "outputs": [
        {
          "output_type": "execute_result",
          "data": {
            "text/plain": [
              "array([5, 1, 6, ..., 0, 9, 4], dtype=int32)"
            ]
          },
          "metadata": {
            "tags": []
          },
          "execution_count": 49
        }
      ]
    },
    {
      "cell_type": "code",
      "metadata": {
        "colab": {
          "base_uri": "https://localhost:8080/",
          "height": 289
        },
        "id": "uEBnUz9zuxuR",
        "outputId": "0a90615c-ca65-4d6e-f979-a796f5cf63cb"
      },
      "source": [
        "pd.plotting.scatter_matrix(Data);"
      ],
      "execution_count": 53,
      "outputs": [
        {
          "output_type": "display_data",
          "data": {
            "image/png": "[encoded data removed]",
            "text/plain": [
              "<Figure size 432x288 with 576 Axes>"
            ]
          },
          "metadata": {
            "tags": [],
            "needs_background": "light"
          }
        }
      ]
    }
  ]
}