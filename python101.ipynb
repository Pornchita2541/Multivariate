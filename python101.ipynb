{
  "nbformat": 4,
  "nbformat_minor": 0,
  "metadata": {
    "colab": {
      "name": "python101.ipynb",
      "provenance": [],
      "collapsed_sections": [],
      "authorship_tag": "ABX9TyNMQEGjMJaDn5M8d0SgQucP",
      "include_colab_link": true
    },
    "kernelspec": {
      "name": "python3",
      "display_name": "Python 3"
    }
  },
  "cells": [
    {
      "cell_type": "markdown",
      "metadata": {
        "id": "view-in-github",
        "colab_type": "text"
      },
      "source": [
        "<a href=\"https://colab.research.google.com/github/Pornchita2541/Multivariate/blob/main/python101.ipynb\" target=\"_parent\"><img src=\"https://colab.research.google.com/assets/colab-badge.svg\" alt=\"Open In Colab\"/></a>"
      ]
    },
    {
      "cell_type": "markdown",
      "metadata": {
        "id": "_lZxm4FrLh86"
      },
      "source": [
        "ตัวแปร variable"
      ]
    },
    {
      "cell_type": "markdown",
      "metadata": {
        "id": "FJZUtl25L8pr"
      },
      "source": [
        "หลักการตั้งชื่อตัวแปร\r\n",
        "1. ตั้งชื่อให้สื่อ\r\n",
        "2. ภาษาอังกฤษ\r\n",
        "3. ใช้ตัวแลขได้แต่ห้ามขึ้นต้นด้วยตัวเลข\r\n",
        "4. ห้ามเว้นวรรค\r\n",
        "5. ตัวเล็กกับตัวใหญ่ไม่เหมือนกัน"
      ]
    },
    {
      "cell_type": "markdown",
      "metadata": {
        "id": "BwwDtPTcMtgO"
      },
      "source": [
        "มีoutput 2 mode : ออกหน้าจอกับเข้าไปเก็บที่ตัวแปร"
      ]
    },
    {
      "cell_type": "code",
      "metadata": {
        "colab": {
          "base_uri": "https://localhost:8080/"
        },
        "id": "JW_G4Hz2MjXI",
        "outputId": "23ce481c-6f9e-4a27-b91e-d08baf4ee822"
      },
      "source": [
        "3.14159 #แสดงออกหน้าจอ ถ้าทำแบบนี้ต้องพิมพ์3.14159ทุกครั้งที่จะใช้"
      ],
      "execution_count": 4,
      "outputs": [
        {
          "output_type": "execute_result",
          "data": {
            "text/plain": [
              "3.14159"
            ]
          },
          "metadata": {
            "tags": []
          },
          "execution_count": 4
        }
      ]
    },
    {
      "cell_type": "code",
      "metadata": {
        "id": "RqLI7fPdLR-q"
      },
      "source": [
        "pi=3.14159 #เข้าไปเก็บที่ตัวแปร ถ้าทำแบบนี้จะพิมพ์แค่pi"
      ],
      "execution_count": 5,
      "outputs": []
    },
    {
      "cell_type": "code",
      "metadata": {
        "colab": {
          "base_uri": "https://localhost:8080/"
        },
        "id": "0nLGEazVMfvj",
        "outputId": "5c357b63-10fe-476a-d81f-f011f53e9d66"
      },
      "source": [
        "pi"
      ],
      "execution_count": 7,
      "outputs": [
        {
          "output_type": "execute_result",
          "data": {
            "text/plain": [
              "3.14159"
            ]
          },
          "metadata": {
            "tags": []
          },
          "execution_count": 7
        }
      ]
    },
    {
      "cell_type": "code",
      "metadata": {
        "colab": {
          "base_uri": "https://localhost:8080/"
        },
        "id": "NSYee70dMgOA",
        "outputId": "d1ae304c-9bda-4295-d761-f2bf58aa3f96"
      },
      "source": [
        "a=1234567\r\n",
        "print(a) #คำสั่งprint(a) คือ แสดงผลตัวแปร a"
      ],
      "execution_count": 9,
      "outputs": [
        {
          "output_type": "stream",
          "text": [
            "1234567\n"
          ],
          "name": "stdout"
        }
      ]
    },
    {
      "cell_type": "markdown",
      "metadata": {
        "id": "HjtUAXdFNnzb"
      },
      "source": [
        "# ชนิดของตัวแปร 3 ชนิด\r\n",
        "## จำนวนเต็ม (integer , int)\r\n",
        "\r\n"
      ]
    },
    {
      "cell_type": "code",
      "metadata": {
        "colab": {
          "base_uri": "https://localhost:8080/"
        },
        "id": "iWGvqdJKOzeb",
        "outputId": "58ff6116-d637-4095-8cdd-ae3c27af84be"
      },
      "source": [
        "aaa=1092\r\n",
        "print(aaa)"
      ],
      "execution_count": 11,
      "outputs": [
        {
          "output_type": "stream",
          "text": [
            "1092\n"
          ],
          "name": "stdout"
        }
      ]
    },
    {
      "cell_type": "markdown",
      "metadata": {
        "id": "V5iolqU4PM61"
      },
      "source": [
        "## จำนวนจริง (float)"
      ]
    },
    {
      "cell_type": "code",
      "metadata": {
        "colab": {
          "base_uri": "https://localhost:8080/"
        },
        "id": "Z-55v_fSPdSR",
        "outputId": "24ba5f59-4ad9-4b34-9d2d-59776622f4d9"
      },
      "source": [
        "bbb=11.\r\n",
        "print(bbb)"
      ],
      "execution_count": 12,
      "outputs": [
        {
          "output_type": "stream",
          "text": [
            "11.0\n"
          ],
          "name": "stdout"
        }
      ]
    },
    {
      "cell_type": "markdown",
      "metadata": {
        "id": "M7lxY9W1PirF"
      },
      "source": [
        "## ตัวอักษร-ข้อความ (character และ text, string)\r\n"
      ]
    },
    {
      "cell_type": "code",
      "metadata": {
        "colab": {
          "base_uri": "https://localhost:8080/"
        },
        "id": "d6iTUUQWPIkW",
        "outputId": "1d4146be-b1f8-484a-be87-f56baa277594"
      },
      "source": [
        "ccc='123456' # เราจะใช้ 'single quote' หรือ \"double quote\"\r\n",
        "print(ccc)"
      ],
      "execution_count": 13,
      "outputs": [
        {
          "output_type": "stream",
          "text": [
            "123456\n"
          ],
          "name": "stdout"
        }
      ]
    },
    {
      "cell_type": "code",
      "metadata": {
        "colab": {
          "base_uri": "https://localhost:8080/"
        },
        "id": "HDj-giWnNXXn",
        "outputId": "c18cd883-1231-4174-d2d2-f58209c11c66"
      },
      "source": [
        "aaa+bbb # float + int = float\r\n"
      ],
      "execution_count": 14,
      "outputs": [
        {
          "output_type": "execute_result",
          "data": {
            "text/plain": [
              "1103.0"
            ]
          },
          "metadata": {
            "tags": []
          },
          "execution_count": 14
        }
      ]
    },
    {
      "cell_type": "code",
      "metadata": {
        "colab": {
          "base_uri": "https://localhost:8080/",
          "height": 164
        },
        "id": "CF3e4SNrQfP2",
        "outputId": "2f0bf115-9fe0-443e-a8d5-53454565c0e0"
      },
      "source": [
        "bbb+ccc #ตัวเลข + ข้อความ = error"
      ],
      "execution_count": 15,
      "outputs": [
        {
          "output_type": "error",
          "ename": "TypeError",
          "evalue": "ignored",
          "traceback": [
            "\u001b[0;31m---------------------------------------------------------------------------\u001b[0m",
            "\u001b[0;31mTypeError\u001b[0m                                 Traceback (most recent call last)",
            "\u001b[0;32m<ipython-input-15-c95aa0bdc4a5>\u001b[0m in \u001b[0;36m<module>\u001b[0;34m()\u001b[0m\n\u001b[0;32m----> 1\u001b[0;31m \u001b[0mbbb\u001b[0m\u001b[0;34m+\u001b[0m\u001b[0mccc\u001b[0m\u001b[0;34m\u001b[0m\u001b[0;34m\u001b[0m\u001b[0m\n\u001b[0m",
            "\u001b[0;31mTypeError\u001b[0m: unsupported operand type(s) for +: 'float' and 'str'"
          ]
        }
      ]
    },
    {
      "cell_type": "markdown",
      "metadata": {
        "id": "CO_40-SmQwYN"
      },
      "source": [
        "## การเปลี่ยนชนิดของตัวแปร variable casting\r\n"
      ]
    },
    {
      "cell_type": "code",
      "metadata": {
        "colab": {
          "base_uri": "https://localhost:8080/"
        },
        "id": "2uPMqZ5tQtig",
        "outputId": "2c9b9d49-908d-4670-afd4-3dbc3ed8d119"
      },
      "source": [
        "aaa+int(ccc)"
      ],
      "execution_count": 17,
      "outputs": [
        {
          "output_type": "execute_result",
          "data": {
            "text/plain": [
              "124548"
            ]
          },
          "metadata": {
            "tags": []
          },
          "execution_count": 17
        }
      ]
    },
    {
      "cell_type": "code",
      "metadata": {
        "colab": {
          "base_uri": "https://localhost:8080/"
        },
        "id": "A9juWzW7RmRZ",
        "outputId": "70c6c367-3b30-4451-e824-739bb6014a8f"
      },
      "source": [
        "aaa+float(ccc)"
      ],
      "execution_count": 18,
      "outputs": [
        {
          "output_type": "execute_result",
          "data": {
            "text/plain": [
              "124548.0"
            ]
          },
          "metadata": {
            "tags": []
          },
          "execution_count": 18
        }
      ]
    },
    {
      "cell_type": "code",
      "metadata": {
        "colab": {
          "base_uri": "https://localhost:8080/",
          "height": 34
        },
        "id": "7KimPVyyRfZZ",
        "outputId": "99fec89b-ace8-40a5-c850-c39c85a68d6f"
      },
      "source": [
        "str(aaa)"
      ],
      "execution_count": 21,
      "outputs": [
        {
          "output_type": "execute_result",
          "data": {
            "application/vnd.google.colaboratory.intrinsic+json": {
              "type": "string"
            },
            "text/plain": [
              "'1092'"
            ]
          },
          "metadata": {
            "tags": []
          },
          "execution_count": 21
        }
      ]
    },
    {
      "cell_type": "markdown",
      "metadata": {
        "id": "fwUDnUv5SykJ"
      },
      "source": [
        "## การดำเนินการ Operation (Operators +, -, *, /, %)\r\n"
      ]
    },
    {
      "cell_type": "markdown",
      "metadata": {
        "id": "WnZgJ8iOTy97"
      },
      "source": [
        "## * คือเครื่องหมายการคูณ"
      ]
    },
    {
      "cell_type": "code",
      "metadata": {
        "colab": {
          "base_uri": "https://localhost:8080/"
        },
        "id": "3RrXOLUPSOI1",
        "outputId": "a6366852-e9d2-4053-f367-d49ce0762725"
      },
      "source": [
        "ab=aaa*bbb\r\n",
        "print(ab)"
      ],
      "execution_count": 24,
      "outputs": [
        {
          "output_type": "stream",
          "text": [
            "12012.0\n"
          ],
          "name": "stdout"
        }
      ]
    },
    {
      "cell_type": "code",
      "metadata": {
        "colab": {
          "base_uri": "https://localhost:8080/"
        },
        "id": "zOuewu6PS8nI",
        "outputId": "cd12716e-5131-41d4-8ff1-6a7f4de78ff0"
      },
      "source": [
        "ab+int(ccc)"
      ],
      "execution_count": 25,
      "outputs": [
        {
          "output_type": "execute_result",
          "data": {
            "text/plain": [
              "135468.0"
            ]
          },
          "metadata": {
            "tags": []
          },
          "execution_count": 25
        }
      ]
    },
    {
      "cell_type": "markdown",
      "metadata": {
        "id": "CGvBQr1jTGpq"
      },
      "source": [
        "## % คือเครื่องหมาย modulo คือ เครื่องหมายหารเอาเศษ"
      ]
    },
    {
      "cell_type": "code",
      "metadata": {
        "colab": {
          "base_uri": "https://localhost:8080/"
        },
        "id": "ADIwQaF3TEzp",
        "outputId": "a8261069-3ca4-44c3-f2b9-accadb052e56"
      },
      "source": [
        "5%3"
      ],
      "execution_count": 26,
      "outputs": [
        {
          "output_type": "execute_result",
          "data": {
            "text/plain": [
              "2"
            ]
          },
          "metadata": {
            "tags": []
          },
          "execution_count": 26
        }
      ]
    },
    {
      "cell_type": "code",
      "metadata": {
        "colab": {
          "base_uri": "https://localhost:8080/"
        },
        "id": "mRMSc8KYT8VU",
        "outputId": "4c7513fe-6a69-4012-df56-ded9178bfada"
      },
      "source": [
        "7%3"
      ],
      "execution_count": 27,
      "outputs": [
        {
          "output_type": "execute_result",
          "data": {
            "text/plain": [
              "1"
            ]
          },
          "metadata": {
            "tags": []
          },
          "execution_count": 27
        }
      ]
    },
    {
      "cell_type": "markdown",
      "metadata": {
        "id": "mW5vFUyEUN4P"
      },
      "source": [
        "## คำสั่ง print แบบพิเศษ"
      ]
    },
    {
      "cell_type": "code",
      "metadata": {
        "colab": {
          "base_uri": "https://localhost:8080/"
        },
        "id": "4KLkYwPDULgn",
        "outputId": "294f1764-fd16-46d0-9bda-d61c7a48f3a2"
      },
      "source": [
        "print(f'%คือการหารเอาเศษ เช่น 7%3 ={7%3}') # เพิ่ม f หน้า 'string' และใช้ {} ใส่ code"
      ],
      "execution_count": 32,
      "outputs": [
        {
          "output_type": "stream",
          "text": [
            "%คือการหารเอาเศษ เช่น 7%3 =1\n"
          ],
          "name": "stdout"
        }
      ]
    },
    {
      "cell_type": "code",
      "metadata": {
        "colab": {
          "base_uri": "https://localhost:8080/"
        },
        "id": "PsZXb1lNVzJ_",
        "outputId": "03e3b580-4d1c-416c-9e7e-471ed4c59ec5"
      },
      "source": [
        "print(f'% คือการหารเอาเศษ เช่น 7%3={7%3} \\\r\n",
        "แต่\\n/ คือการหารปกติ เช่น 7/3={7/3} \\\r\n",
        "และ \\n// คือการหารเอาส่วน เช่น7//3=2 หรือ\\\r\n",
        "ใช้ int() เพื่อหารเอาส่วน เช่น int(7/3)=2')"
      ],
      "execution_count": 35,
      "outputs": [
        {
          "output_type": "stream",
          "text": [
            "% คือการหารเอาเศษ เช่น 7%3=1 แต่\n",
            "/ คือการหารปกติ เช่น 7/3=2.3333333333333335 และ \n",
            "// คือการหารเอาส่วน เช่น7//3=2 หรือใช้ int() เพื่อหารเอาส่วน เช่น int(7/3)=2\n"
          ],
          "name": "stdout"
        }
      ]
    },
    {
      "cell_type": "markdown",
      "metadata": {
        "id": "2ChNZm5LXZhe"
      },
      "source": [
        "##List คือ การเอาข้อมูลหลายๆตัวมาเรียงต่อกัน\r\n",
        "### list สามารถสร้างได้ 2 แบบ"
      ]
    },
    {
      "cell_type": "markdown",
      "metadata": {
        "id": "JRYx45JUXr5U"
      },
      "source": [
        "## แบบที่ 1 > square brackets"
      ]
    },
    {
      "cell_type": "code",
      "metadata": {
        "colab": {
          "base_uri": "https://localhost:8080/"
        },
        "id": "ObokkfZoYF2x",
        "outputId": "4efb27f3-f380-4719-cd53-537daea48ff0"
      },
      "source": [
        "list_a=[]\r\n",
        "print(list_a)"
      ],
      "execution_count": 38,
      "outputs": [
        {
          "output_type": "stream",
          "text": [
            "[]\n"
          ],
          "name": "stdout"
        }
      ]
    },
    {
      "cell_type": "code",
      "metadata": {
        "colab": {
          "base_uri": "https://localhost:8080/"
        },
        "id": "TFeniybhcvYT",
        "outputId": "c1c7fddc-d07a-442f-a01d-2c97dee7e79c"
      },
      "source": [
        "list_b=[111,'c','งง',aaa]\r\n",
        "print(list_b)"
      ],
      "execution_count": 45,
      "outputs": [
        {
          "output_type": "stream",
          "text": [
            "[111, 'c', 'งง', 1092]\n"
          ],
          "name": "stdout"
        }
      ]
    },
    {
      "cell_type": "code",
      "metadata": {
        "colab": {
          "base_uri": "https://localhost:8080/"
        },
        "id": "C2x8kpV-fBZx",
        "outputId": "454532e7-ec90-4af0-e4f0-0b64535bf243"
      },
      "source": [
        "list_b=[1,5,'v']\r\n",
        "print(list_b)"
      ],
      "execution_count": 54,
      "outputs": [
        {
          "output_type": "stream",
          "text": [
            "[1, 5, 'v']\n"
          ],
          "name": "stdout"
        }
      ]
    },
    {
      "cell_type": "markdown",
      "metadata": {
        "id": "VP2jzzxPfUbE"
      },
      "source": [
        "## ลำดับที่อยู่ใน list มีความสำคัญ (ลำดับใน list เริ่มจาก 0,1,2,...)"
      ]
    },
    {
      "cell_type": "code",
      "metadata": {
        "colab": {
          "base_uri": "https://localhost:8080/"
        },
        "id": "UjrHMt0vcZOQ",
        "outputId": "dcd0aa61-7a9e-4b93-99e5-24796103abf5"
      },
      "source": [
        "list_b[1]"
      ],
      "execution_count": 44,
      "outputs": [
        {
          "output_type": "execute_result",
          "data": {
            "text/plain": [
              "5"
            ]
          },
          "metadata": {
            "tags": []
          },
          "execution_count": 44
        }
      ]
    },
    {
      "cell_type": "markdown",
      "metadata": {
        "id": "emUjm5JfdF4C"
      },
      "source": [
        "## แบบที่ 2"
      ]
    },
    {
      "cell_type": "code",
      "metadata": {
        "colab": {
          "base_uri": "https://localhost:8080/"
        },
        "id": "ko5TVVsTdJS3",
        "outputId": "03854c56-bc17-4c96-b8f5-04bb4b154127"
      },
      "source": [
        "list_c=list()\r\n",
        "print(list_c)"
      ],
      "execution_count": 46,
      "outputs": [
        {
          "output_type": "stream",
          "text": [
            "[]\n"
          ],
          "name": "stdout"
        }
      ]
    },
    {
      "cell_type": "markdown",
      "metadata": {
        "id": "OutTkhBZdTak"
      },
      "source": [
        "## append() เพิ่มสมาชิกใน list"
      ]
    },
    {
      "cell_type": "code",
      "metadata": {
        "colab": {
          "base_uri": "https://localhost:8080/"
        },
        "id": "-LXtzS9uf23D",
        "outputId": "effaeb4b-066a-461e-b780-41edb352fca5"
      },
      "source": [
        "list_b"
      ],
      "execution_count": 57,
      "outputs": [
        {
          "output_type": "execute_result",
          "data": {
            "text/plain": [
              "[1, 5, 'v']"
            ]
          },
          "metadata": {
            "tags": []
          },
          "execution_count": 57
        }
      ]
    },
    {
      "cell_type": "markdown",
      "metadata": {
        "id": "Es3w3tVpZuiw"
      },
      "source": [
        "## String > list of characters"
      ]
    },
    {
      "cell_type": "code",
      "metadata": {
        "colab": {
          "base_uri": "https://localhost:8080/",
          "height": 34
        },
        "id": "GE2dgmN0aSu2",
        "outputId": "295ae689-5b8d-4086-fd59-5d0622364679"
      },
      "source": [
        "t[1]"
      ],
      "execution_count": 42,
      "outputs": [
        {
          "output_type": "execute_result",
          "data": {
            "application/vnd.google.colaboratory.intrinsic+json": {
              "type": "string"
            },
            "text/plain": [
              "'y'"
            ]
          },
          "metadata": {
            "tags": []
          },
          "execution_count": 42
        }
      ]
    },
    {
      "cell_type": "code",
      "metadata": {
        "colab": {
          "base_uri": "https://localhost:8080/",
          "height": 34
        },
        "id": "UXIAcHPgaIPC",
        "outputId": "6d421643-fd06-4158-e0c9-ec779a91a22f"
      },
      "source": [
        "t[-4]"
      ],
      "execution_count": 40,
      "outputs": [
        {
          "output_type": "execute_result",
          "data": {
            "application/vnd.google.colaboratory.intrinsic+json": {
              "type": "string"
            },
            "text/plain": [
              "'e'"
            ]
          },
          "metadata": {
            "tags": []
          },
          "execution_count": 40
        }
      ]
    }
  ]
}