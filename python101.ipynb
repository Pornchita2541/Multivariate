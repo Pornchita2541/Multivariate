{
  "nbformat": 4,
  "nbformat_minor": 0,
  "metadata": {
    "colab": {
      "name": "python101.ipynb",
      "provenance": [],
      "collapsed_sections": [],
      "include_colab_link": true
    },
    "kernelspec": {
      "name": "python3",
      "display_name": "Python 3"
    }
  },
  "cells": [
    {
      "cell_type": "markdown",
      "metadata": {
        "id": "view-in-github",
        "colab_type": "text"
      },
      "source": [
        "<a href=\"https://colab.research.google.com/github/Pornchita2541/Multivariate/blob/main/python101.ipynb\" target=\"_parent\"><img src=\"https://colab.research.google.com/assets/colab-badge.svg\" alt=\"Open In Colab\"/></a>"
      ]
    },
    {
      "cell_type": "markdown",
      "metadata": {
        "id": "_lZxm4FrLh86"
      },
      "source": [
        "ตัวแปร variable"
      ]
    },
    {
      "cell_type": "markdown",
      "metadata": {
        "id": "FJZUtl25L8pr"
      },
      "source": [
        "หลักการตั้งชื่อตัวแปร\r\n",
        "1. ตั้งชื่อให้สื่อ\r\n",
        "2. ภาษาอังกฤษ\r\n",
        "3. ใช้ตัวแลขได้แต่ห้ามขึ้นต้นด้วยตัวเลข\r\n",
        "4. ห้ามเว้นวรรค\r\n",
        "5. ตัวเล็กกับตัวใหญ่ไม่เหมือนกัน"
      ]
    },
    {
      "cell_type": "markdown",
      "metadata": {
        "id": "BwwDtPTcMtgO"
      },
      "source": [
        "มีoutput 2 mode : ออกหน้าจอกับเข้าไปเก็บที่ตัวแปร"
      ]
    },
    {
      "cell_type": "code",
      "metadata": {
        "colab": {
          "base_uri": "https://localhost:8080/"
        },
        "id": "JW_G4Hz2MjXI",
        "outputId": "1a8c64f3-21df-4443-e94f-2f7d2abf53d2"
      },
      "source": [
        "3.14159 #แสดงออกหน้าจอ ถ้าทำแบบนี้ต้องพิมพ์3.14159ทุกครั้งที่จะใช้"
      ],
      "execution_count": 36,
      "outputs": [
        {
          "output_type": "execute_result",
          "data": {
            "text/plain": [
              "3.14159"
            ]
          },
          "metadata": {
            "tags": []
          },
          "execution_count": 36
        }
      ]
    },
    {
      "cell_type": "code",
      "metadata": {
        "id": "RqLI7fPdLR-q"
      },
      "source": [
        "pi=3.14159 #เข้าไปเก็บที่ตัวแปร ถ้าทำแบบนี้จะพิมพ์แค่pi"
      ],
      "execution_count": 6,
      "outputs": []
    },
    {
      "cell_type": "code",
      "metadata": {
        "colab": {
          "base_uri": "https://localhost:8080/"
        },
        "id": "0nLGEazVMfvj",
        "outputId": "8b28d339-f601-40ee-b533-046b92a32381"
      },
      "source": [
        "pi"
      ],
      "execution_count": 7,
      "outputs": [
        {
          "output_type": "execute_result",
          "data": {
            "text/plain": [
              "3.14159"
            ]
          },
          "metadata": {
            "tags": []
          },
          "execution_count": 7
        }
      ]
    },
    {
      "cell_type": "code",
      "metadata": {
        "colab": {
          "base_uri": "https://localhost:8080/"
        },
        "id": "NSYee70dMgOA",
        "outputId": "0e9de0f9-d2e0-4a99-aa18-51f7b7c06bb7"
      },
      "source": [
        "a=1234567\r\n",
        "print(a) #คำสั่งprint(a) คือ แสดงผลตัวแปร a"
      ],
      "execution_count": 8,
      "outputs": [
        {
          "output_type": "stream",
          "text": [
            "1234567\n"
          ],
          "name": "stdout"
        }
      ]
    },
    {
      "cell_type": "markdown",
      "metadata": {
        "id": "HjtUAXdFNnzb"
      },
      "source": [
        "# ชนิดของตัวแปร 3 ชนิด\r\n",
        "## จำนวนเต็ม (integer , int)\r\n",
        "\r\n"
      ]
    },
    {
      "cell_type": "code",
      "metadata": {
        "colab": {
          "base_uri": "https://localhost:8080/"
        },
        "id": "iWGvqdJKOzeb",
        "outputId": "6955cf87-2a0f-4d1f-ef9c-f3fdcd72a94d"
      },
      "source": [
        "aaa=1092\r\n",
        "print(aaa)"
      ],
      "execution_count": 9,
      "outputs": [
        {
          "output_type": "stream",
          "text": [
            "1092\n"
          ],
          "name": "stdout"
        }
      ]
    },
    {
      "cell_type": "markdown",
      "metadata": {
        "id": "V5iolqU4PM61"
      },
      "source": [
        "## จำนวนจริง (float)"
      ]
    },
    {
      "cell_type": "code",
      "metadata": {
        "colab": {
          "base_uri": "https://localhost:8080/"
        },
        "id": "Z-55v_fSPdSR",
        "outputId": "19fb7bf7-37b0-413f-a092-d5d487317f6e"
      },
      "source": [
        "bbb=11.\r\n",
        "print(bbb)"
      ],
      "execution_count": 10,
      "outputs": [
        {
          "output_type": "stream",
          "text": [
            "11.0\n"
          ],
          "name": "stdout"
        }
      ]
    },
    {
      "cell_type": "markdown",
      "metadata": {
        "id": "M7lxY9W1PirF"
      },
      "source": [
        "## ตัวอักษร-ข้อความ (character และ text, string)\r\n"
      ]
    },
    {
      "cell_type": "code",
      "metadata": {
        "colab": {
          "base_uri": "https://localhost:8080/"
        },
        "id": "d6iTUUQWPIkW",
        "outputId": "3ce7c2d4-3b71-4598-d4d9-490dfc823ea4"
      },
      "source": [
        "ccc='123456' # เราจะใช้ 'single quote' หรือ \"double quote\"\r\n",
        "print(ccc)"
      ],
      "execution_count": 11,
      "outputs": [
        {
          "output_type": "stream",
          "text": [
            "123456\n"
          ],
          "name": "stdout"
        }
      ]
    },
    {
      "cell_type": "code",
      "metadata": {
        "colab": {
          "base_uri": "https://localhost:8080/"
        },
        "id": "HDj-giWnNXXn",
        "outputId": "c18cd883-1231-4174-d2d2-f58209c11c66"
      },
      "source": [
        "aaa+bbb # float + int = float\r\n"
      ],
      "execution_count": null,
      "outputs": [
        {
          "output_type": "execute_result",
          "data": {
            "text/plain": [
              "1103.0"
            ]
          },
          "metadata": {
            "tags": []
          },
          "execution_count": 14
        }
      ]
    },
    {
      "cell_type": "code",
      "metadata": {
        "colab": {
          "base_uri": "https://localhost:8080/",
          "height": 164
        },
        "id": "CF3e4SNrQfP2",
        "outputId": "f94b7dbb-ce47-400a-9502-090b13d048a4"
      },
      "source": [
        "bbb+ccc #ตัวเลข + ข้อความ = error"
      ],
      "execution_count": 12,
      "outputs": [
        {
          "output_type": "error",
          "ename": "TypeError",
          "evalue": "ignored",
          "traceback": [
            "\u001b[0;31m---------------------------------------------------------------------------\u001b[0m",
            "\u001b[0;31mTypeError\u001b[0m                                 Traceback (most recent call last)",
            "\u001b[0;32m<ipython-input-12-197e876ec682>\u001b[0m in \u001b[0;36m<module>\u001b[0;34m()\u001b[0m\n\u001b[0;32m----> 1\u001b[0;31m \u001b[0mbbb\u001b[0m\u001b[0;34m+\u001b[0m\u001b[0mccc\u001b[0m \u001b[0;31m#ตัวเลข + ข้อความ = error\u001b[0m\u001b[0;34m\u001b[0m\u001b[0;34m\u001b[0m\u001b[0m\n\u001b[0m",
            "\u001b[0;31mTypeError\u001b[0m: unsupported operand type(s) for +: 'float' and 'str'"
          ]
        }
      ]
    },
    {
      "cell_type": "markdown",
      "metadata": {
        "id": "CO_40-SmQwYN"
      },
      "source": [
        "## การเปลี่ยนชนิดของตัวแปร variable casting\r\n"
      ]
    },
    {
      "cell_type": "code",
      "metadata": {
        "colab": {
          "base_uri": "https://localhost:8080/"
        },
        "id": "2uPMqZ5tQtig",
        "outputId": "2dee9445-d379-4b07-aaf9-b2388d877cd9"
      },
      "source": [
        "aaa+int(ccc)"
      ],
      "execution_count": 13,
      "outputs": [
        {
          "output_type": "execute_result",
          "data": {
            "text/plain": [
              "124548"
            ]
          },
          "metadata": {
            "tags": []
          },
          "execution_count": 13
        }
      ]
    },
    {
      "cell_type": "code",
      "metadata": {
        "colab": {
          "base_uri": "https://localhost:8080/"
        },
        "id": "A9juWzW7RmRZ",
        "outputId": "a9136b07-feec-445c-e20b-fe960139c9d5"
      },
      "source": [
        "aaa+float(ccc)"
      ],
      "execution_count": 14,
      "outputs": [
        {
          "output_type": "execute_result",
          "data": {
            "text/plain": [
              "124548.0"
            ]
          },
          "metadata": {
            "tags": []
          },
          "execution_count": 14
        }
      ]
    },
    {
      "cell_type": "code",
      "metadata": {
        "colab": {
          "base_uri": "https://localhost:8080/",
          "height": 34
        },
        "id": "7KimPVyyRfZZ",
        "outputId": "9d88b62e-8b09-43bf-e732-e54462b06220"
      },
      "source": [
        "str(aaa)"
      ],
      "execution_count": 15,
      "outputs": [
        {
          "output_type": "execute_result",
          "data": {
            "application/vnd.google.colaboratory.intrinsic+json": {
              "type": "string"
            },
            "text/plain": [
              "'1092'"
            ]
          },
          "metadata": {
            "tags": []
          },
          "execution_count": 15
        }
      ]
    },
    {
      "cell_type": "markdown",
      "metadata": {
        "id": "fwUDnUv5SykJ"
      },
      "source": [
        "## การดำเนินการ Operation (Operators +, -, *, /, %)\r\n"
      ]
    },
    {
      "cell_type": "markdown",
      "metadata": {
        "id": "WnZgJ8iOTy97"
      },
      "source": [
        "## * คือเครื่องหมายการคูณ"
      ]
    },
    {
      "cell_type": "code",
      "metadata": {
        "colab": {
          "base_uri": "https://localhost:8080/"
        },
        "id": "3RrXOLUPSOI1",
        "outputId": "b3fdaffb-940b-486e-b09e-d0691aa86f16"
      },
      "source": [
        "ab=aaa*bbb\r\n",
        "print(ab)"
      ],
      "execution_count": 16,
      "outputs": [
        {
          "output_type": "stream",
          "text": [
            "12012.0\n"
          ],
          "name": "stdout"
        }
      ]
    },
    {
      "cell_type": "code",
      "metadata": {
        "colab": {
          "base_uri": "https://localhost:8080/"
        },
        "id": "zOuewu6PS8nI",
        "outputId": "e64ec966-5a5a-4755-f003-5beff8388cbb"
      },
      "source": [
        "ab+int(ccc)"
      ],
      "execution_count": 17,
      "outputs": [
        {
          "output_type": "execute_result",
          "data": {
            "text/plain": [
              "135468.0"
            ]
          },
          "metadata": {
            "tags": []
          },
          "execution_count": 17
        }
      ]
    },
    {
      "cell_type": "markdown",
      "metadata": {
        "id": "CGvBQr1jTGpq"
      },
      "source": [
        "## % คือเครื่องหมาย modulo คือ เครื่องหมายหารเอาเศษ"
      ]
    },
    {
      "cell_type": "code",
      "metadata": {
        "colab": {
          "base_uri": "https://localhost:8080/"
        },
        "id": "ADIwQaF3TEzp",
        "outputId": "5c39f5aa-2185-4391-86f2-d89775d8d351"
      },
      "source": [
        "5%3"
      ],
      "execution_count": 18,
      "outputs": [
        {
          "output_type": "execute_result",
          "data": {
            "text/plain": [
              "2"
            ]
          },
          "metadata": {
            "tags": []
          },
          "execution_count": 18
        }
      ]
    },
    {
      "cell_type": "code",
      "metadata": {
        "colab": {
          "base_uri": "https://localhost:8080/"
        },
        "id": "mRMSc8KYT8VU",
        "outputId": "2f7dd2f8-4246-4661-e490-5ca83f4c33a3"
      },
      "source": [
        "7%3"
      ],
      "execution_count": 19,
      "outputs": [
        {
          "output_type": "execute_result",
          "data": {
            "text/plain": [
              "1"
            ]
          },
          "metadata": {
            "tags": []
          },
          "execution_count": 19
        }
      ]
    },
    {
      "cell_type": "markdown",
      "metadata": {
        "id": "mW5vFUyEUN4P"
      },
      "source": [
        "## คำสั่ง print แบบพิเศษ"
      ]
    },
    {
      "cell_type": "code",
      "metadata": {
        "colab": {
          "base_uri": "https://localhost:8080/"
        },
        "id": "4KLkYwPDULgn",
        "outputId": "294f1764-fd16-46d0-9bda-d61c7a48f3a2"
      },
      "source": [
        "print(f'%คือการหารเอาเศษ เช่น 7%3 ={7%3}') # เพิ่ม f หน้า 'string' และใช้ {} ใส่ code"
      ],
      "execution_count": null,
      "outputs": [
        {
          "output_type": "stream",
          "text": [
            "%คือการหารเอาเศษ เช่น 7%3 =1\n"
          ],
          "name": "stdout"
        }
      ]
    },
    {
      "cell_type": "code",
      "metadata": {
        "colab": {
          "base_uri": "https://localhost:8080/"
        },
        "id": "PsZXb1lNVzJ_",
        "outputId": "6376328d-3ea7-4dbb-f8d1-832be5790b0b"
      },
      "source": [
        "print(f'% คือการหารเอาเศษ เช่น 7%3={7%3} \\\r\n",
        "แต่\\n/ คือการหารปกติ เช่น 7/3={7/3} \\\r\n",
        "และ \\n// คือการหารเอาส่วน เช่น7//3=2 หรือ\\\r\n",
        "ใช้ int() เพื่อหารเอาส่วน เช่น int(7/3)=2')"
      ],
      "execution_count": 20,
      "outputs": [
        {
          "output_type": "stream",
          "text": [
            "% คือการหารเอาเศษ เช่น 7%3=1 แต่\n",
            "/ คือการหารปกติ เช่น 7/3=2.3333333333333335 และ \n",
            "// คือการหารเอาส่วน เช่น7//3=2 หรือใช้ int() เพื่อหารเอาส่วน เช่น int(7/3)=2\n"
          ],
          "name": "stdout"
        }
      ]
    },
    {
      "cell_type": "markdown",
      "metadata": {
        "id": "2ChNZm5LXZhe"
      },
      "source": [
        "##List คือ การเอาข้อมูลหลายๆตัวมาเรียงต่อกัน\r\n",
        "### list สามารถสร้างได้ 2 แบบ"
      ]
    },
    {
      "cell_type": "markdown",
      "metadata": {
        "id": "JRYx45JUXr5U"
      },
      "source": [
        "## แบบที่ 1 > square brackets"
      ]
    },
    {
      "cell_type": "code",
      "metadata": {
        "colab": {
          "base_uri": "https://localhost:8080/"
        },
        "id": "ObokkfZoYF2x",
        "outputId": "1a046340-a3ba-4f2d-8e5e-007dbecea7db"
      },
      "source": [
        "list_a=[]\r\n",
        "print(list_a)"
      ],
      "execution_count": 67,
      "outputs": [
        {
          "output_type": "stream",
          "text": [
            "[]\n"
          ],
          "name": "stdout"
        }
      ]
    },
    {
      "cell_type": "code",
      "metadata": {
        "colab": {
          "base_uri": "https://localhost:8080/"
        },
        "id": "TFeniybhcvYT",
        "outputId": "26737745-b130-40a8-aef6-3c7e84fe69d4"
      },
      "source": [
        "list_b=[111,'c','งง',aaa]\r\n",
        "print(list_b)"
      ],
      "execution_count": 68,
      "outputs": [
        {
          "output_type": "stream",
          "text": [
            "[111, 'c', 'งง', 1092]\n"
          ],
          "name": "stdout"
        }
      ]
    },
    {
      "cell_type": "code",
      "metadata": {
        "colab": {
          "base_uri": "https://localhost:8080/",
          "height": 34
        },
        "id": "61cq3EQcmhdg",
        "outputId": "a182d6da-b4bd-4b11-bd99-790d5d9532fe"
      },
      "source": [
        "list_b[-2]"
      ],
      "execution_count": 69,
      "outputs": [
        {
          "output_type": "execute_result",
          "data": {
            "application/vnd.google.colaboratory.intrinsic+json": {
              "type": "string"
            },
            "text/plain": [
              "'งง'"
            ]
          },
          "metadata": {
            "tags": []
          },
          "execution_count": 69
        }
      ]
    },
    {
      "cell_type": "code",
      "metadata": {
        "colab": {
          "base_uri": "https://localhost:8080/"
        },
        "id": "ji1aul4mtNnq",
        "outputId": "582ddbea-27ca-4329-adcb-11ee12950d98"
      },
      "source": [
        "list_c=list()\r\n",
        "print(list_c)"
      ],
      "execution_count": 70,
      "outputs": [
        {
          "output_type": "stream",
          "text": [
            "[]\n"
          ],
          "name": "stdout"
        }
      ]
    },
    {
      "cell_type": "markdown",
      "metadata": {
        "id": "WZbnrz14tX8F"
      },
      "source": [
        "## append() เพิ่มในสมาชิก list"
      ]
    },
    {
      "cell_type": "code",
      "metadata": {
        "colab": {
          "base_uri": "https://localhost:8080/"
        },
        "id": "0_woetsgtgoi",
        "outputId": "76f5a091-9ea6-4e51-8860-38df08740614"
      },
      "source": [
        "list_b.append('u')\r\n",
        "print(list_b)"
      ],
      "execution_count": 71,
      "outputs": [
        {
          "output_type": "stream",
          "text": [
            "[111, 'c', 'งง', 1092, 'u']\n"
          ],
          "name": "stdout"
        }
      ]
    },
    {
      "cell_type": "markdown",
      "metadata": {
        "id": "VP2jzzxPfUbE"
      },
      "source": [
        "## ลำดับที่อยู่ใน list มีความสำคัญ (ลำดับใน list เริ่มจาก 0,1,2,...)"
      ]
    },
    {
      "cell_type": "code",
      "metadata": {
        "colab": {
          "base_uri": "https://localhost:8080/",
          "height": 34
        },
        "id": "UjrHMt0vcZOQ",
        "outputId": "4c86794e-7fcc-47f0-ca1c-4c7300ea0aa8"
      },
      "source": [
        "list_b[1]"
      ],
      "execution_count": 72,
      "outputs": [
        {
          "output_type": "execute_result",
          "data": {
            "application/vnd.google.colaboratory.intrinsic+json": {
              "type": "string"
            },
            "text/plain": [
              "'c'"
            ]
          },
          "metadata": {
            "tags": []
          },
          "execution_count": 72
        }
      ]
    },
    {
      "cell_type": "markdown",
      "metadata": {
        "id": "emUjm5JfdF4C"
      },
      "source": [
        "## แบบที่ 2"
      ]
    },
    {
      "cell_type": "code",
      "metadata": {
        "colab": {
          "base_uri": "https://localhost:8080/"
        },
        "id": "ko5TVVsTdJS3",
        "outputId": "6bb9b8a5-ae0d-4a7f-9257-50d8b5ee366c"
      },
      "source": [
        "list_c=list()\r\n",
        "print(list_c)"
      ],
      "execution_count": 35,
      "outputs": [
        {
          "output_type": "stream",
          "text": [
            "[]\n"
          ],
          "name": "stdout"
        }
      ]
    },
    {
      "cell_type": "markdown",
      "metadata": {
        "id": "Es3w3tVpZuiw"
      },
      "source": [
        "## String > list of characters"
      ]
    },
    {
      "cell_type": "code",
      "metadata": {
        "colab": {
          "base_uri": "https://localhost:8080/"
        },
        "id": "7v8hofxJjvgm",
        "outputId": "13e9e83c-c007-494b-ce07-d186cdc18e1d"
      },
      "source": [
        "t='python is easy'\r\n",
        "print(t)"
      ],
      "execution_count": 73,
      "outputs": [
        {
          "output_type": "stream",
          "text": [
            "python is easy\n"
          ],
          "name": "stdout"
        }
      ]
    },
    {
      "cell_type": "code",
      "metadata": {
        "colab": {
          "base_uri": "https://localhost:8080/",
          "height": 34
        },
        "id": "GE2dgmN0aSu2",
        "outputId": "cee46819-3886-4dbe-d9f0-8410cb05e683"
      },
      "source": [
        "t[1]"
      ],
      "execution_count": 38,
      "outputs": [
        {
          "output_type": "execute_result",
          "data": {
            "application/vnd.google.colaboratory.intrinsic+json": {
              "type": "string"
            },
            "text/plain": [
              "'y'"
            ]
          },
          "metadata": {
            "tags": []
          },
          "execution_count": 38
        }
      ]
    },
    {
      "cell_type": "code",
      "metadata": {
        "colab": {
          "base_uri": "https://localhost:8080/",
          "height": 34
        },
        "id": "UXIAcHPgaIPC",
        "outputId": "653137cd-89d1-440f-f2f3-cdffc2487398"
      },
      "source": [
        "t[-4]"
      ],
      "execution_count": 39,
      "outputs": [
        {
          "output_type": "execute_result",
          "data": {
            "application/vnd.google.colaboratory.intrinsic+json": {
              "type": "string"
            },
            "text/plain": [
              "'e'"
            ]
          },
          "metadata": {
            "tags": []
          },
          "execution_count": 39
        }
      ]
    },
    {
      "cell_type": "code",
      "metadata": {
        "colab": {
          "base_uri": "https://localhost:8080/",
          "height": 34
        },
        "id": "ZjNGgbWGj6Yu",
        "outputId": "b5ce496c-3b5d-4004-f837-f131ffd4cbaf"
      },
      "source": [
        "t[6]"
      ],
      "execution_count": 40,
      "outputs": [
        {
          "output_type": "execute_result",
          "data": {
            "application/vnd.google.colaboratory.intrinsic+json": {
              "type": "string"
            },
            "text/plain": [
              "' '"
            ]
          },
          "metadata": {
            "tags": []
          },
          "execution_count": 40
        }
      ]
    },
    {
      "cell_type": "markdown",
      "metadata": {
        "id": "rzoLLvMriPue"
      },
      "source": [
        "## คาบที่ 3"
      ]
    },
    {
      "cell_type": "code",
      "metadata": {
        "colab": {
          "base_uri": "https://localhost:8080/"
        },
        "id": "AJNUyCzDiwV8",
        "outputId": "a348f0cd-45c7-4455-eeef-273d4ee2e036"
      },
      "source": [
        "len(t)"
      ],
      "execution_count": 41,
      "outputs": [
        {
          "output_type": "execute_result",
          "data": {
            "text/plain": [
              "14"
            ]
          },
          "metadata": {
            "tags": []
          },
          "execution_count": 41
        }
      ]
    },
    {
      "cell_type": "code",
      "metadata": {
        "colab": {
          "base_uri": "https://localhost:8080/"
        },
        "id": "N0c8GpxMkOst",
        "outputId": "7ca8a4e6-4456-4e4e-df72-87eb372eaf0f"
      },
      "source": [
        "list_b"
      ],
      "execution_count": 74,
      "outputs": [
        {
          "output_type": "execute_result",
          "data": {
            "text/plain": [
              "[111, 'c', 'งง', 1092, 'u']"
            ]
          },
          "metadata": {
            "tags": []
          },
          "execution_count": 74
        }
      ]
    },
    {
      "cell_type": "code",
      "metadata": {
        "colab": {
          "base_uri": "https://localhost:8080/"
        },
        "id": "rZiyt8ikkOfi",
        "outputId": "9459f6e5-14d8-4180-cf01-b131371e1d82"
      },
      "source": [
        "len(list_b)"
      ],
      "execution_count": 75,
      "outputs": [
        {
          "output_type": "execute_result",
          "data": {
            "text/plain": [
              "5"
            ]
          },
          "metadata": {
            "tags": []
          },
          "execution_count": 75
        }
      ]
    },
    {
      "cell_type": "code",
      "metadata": {
        "colab": {
          "base_uri": "https://localhost:8080/"
        },
        "id": "GMmpk7-OkONm",
        "outputId": "d388b704-260f-47cf-949b-b2feb4a817de"
      },
      "source": [
        "print(t)\r\n",
        "print(t[7:9]) #หน้า: คือจุดเริ่มต้น หลัง: คือจุดสิ้นสุด\r\n",
        "print(len(t[7:9]))"
      ],
      "execution_count": 76,
      "outputs": [
        {
          "output_type": "stream",
          "text": [
            "python is easy\n",
            "is\n",
            "2\n"
          ],
          "name": "stdout"
        }
      ]
    },
    {
      "cell_type": "code",
      "metadata": {
        "colab": {
          "base_uri": "https://localhost:8080/",
          "height": 34
        },
        "id": "dbLU2pISkNvN",
        "outputId": "873a39f6-ceab-4b88-e8d0-b3e86353a43c"
      },
      "source": [
        "t[0:14:2] #เริ่มที่0 สิ้นสุดที่ 14 เว้นไปเก็บตัวที่ 2  เช่น 1234567 จะได้ 1357"
      ],
      "execution_count": 77,
      "outputs": [
        {
          "output_type": "execute_result",
          "data": {
            "application/vnd.google.colaboratory.intrinsic+json": {
              "type": "string"
            },
            "text/plain": [
              "'pto ses'"
            ]
          },
          "metadata": {
            "tags": []
          },
          "execution_count": 77
        }
      ]
    },
    {
      "cell_type": "code",
      "metadata": {
        "id": "aKGweUWXnlPA"
      },
      "source": [
        "Z=[1,2,3,4,5,6,7,8,9,10]"
      ],
      "execution_count": 78,
      "outputs": []
    },
    {
      "cell_type": "markdown",
      "metadata": {
        "id": "e6PNmzxBol6W"
      },
      "source": [
        "## quiz ให้นับแค่เลขคู่"
      ]
    },
    {
      "cell_type": "code",
      "metadata": {
        "colab": {
          "base_uri": "https://localhost:8080/"
        },
        "id": "8V9B5PrNnlLG",
        "outputId": "e72ce40f-ad3f-4942-dc32-e3c9bcdf977b"
      },
      "source": [
        "Z[1:10:2]"
      ],
      "execution_count": 79,
      "outputs": [
        {
          "output_type": "execute_result",
          "data": {
            "text/plain": [
              "[2, 4, 6, 8, 10]"
            ]
          },
          "metadata": {
            "tags": []
          },
          "execution_count": 79
        }
      ]
    },
    {
      "cell_type": "markdown",
      "metadata": {
        "id": "QxJ4ViSkpRRF"
      },
      "source": [
        "### ถ้าเว้นว่างหน้า : หมายความว่า เริ่มตั้งแต่ตัวแรก\r\n"
      ]
    },
    {
      "cell_type": "markdown",
      "metadata": {
        "id": "aMpOJL3KqJJo"
      },
      "source": [
        "### ถ้าเว้นว่างหลัง : หมายความว่า ไปจนถึงตัวสุดท้าย (len(list))"
      ]
    },
    {
      "cell_type": "code",
      "metadata": {
        "colab": {
          "base_uri": "https://localhost:8080/"
        },
        "id": "mu581xO3nlBo",
        "outputId": "f49053e3-44bd-4068-9819-2b24eb1811d5"
      },
      "source": [
        "print(t)\r\n",
        "print(t[ :6])\r\n",
        "print(t[10: ])\r\n",
        "print(t[-4: ])\r\n",
        "print(t[:])"
      ],
      "execution_count": 80,
      "outputs": [
        {
          "output_type": "stream",
          "text": [
            "python is easy\n",
            "python\n",
            "easy\n",
            "easy\n",
            "python is easy\n"
          ],
          "name": "stdout"
        }
      ]
    },
    {
      "cell_type": "code",
      "metadata": {
        "colab": {
          "base_uri": "https://localhost:8080/"
        },
        "id": "L4YrRW8-nkwS",
        "outputId": "aded432d-93a5-4924-c5ac-38633bcd052f"
      },
      "source": [
        "print(Z[::2]) #เอาเลขตั้งแต่ตัวแรกถึงตัวสุดท้าย แต่เว้นทีละ 2"
      ],
      "execution_count": 81,
      "outputs": [
        {
          "output_type": "stream",
          "text": [
            "[1, 3, 5, 7, 9]\n"
          ],
          "name": "stdout"
        }
      ]
    },
    {
      "cell_type": "markdown",
      "metadata": {
        "id": "RpGLS1bGr1dE"
      },
      "source": [
        "## เราสามารถเอา list มาต่อกันได้ด้วย +"
      ]
    },
    {
      "cell_type": "code",
      "metadata": {
        "colab": {
          "base_uri": "https://localhost:8080/",
          "height": 34
        },
        "id": "ObPWntx9r-OK",
        "outputId": "6bcf39ec-81e4-423e-8a02-b300da5145cd"
      },
      "source": [
        "t+'??'"
      ],
      "execution_count": 82,
      "outputs": [
        {
          "output_type": "execute_result",
          "data": {
            "application/vnd.google.colaboratory.intrinsic+json": {
              "type": "string"
            },
            "text/plain": [
              "'python is easy??'"
            ]
          },
          "metadata": {
            "tags": []
          },
          "execution_count": 82
        }
      ]
    },
    {
      "cell_type": "code",
      "metadata": {
        "colab": {
          "base_uri": "https://localhost:8080/",
          "height": 164
        },
        "id": "gKT4UgE6sK-L",
        "outputId": "cc55ff17-ddb1-4421-d4c3-509b7899a274"
      },
      "source": [
        "t+list_b  # สัญลักษณ์ + จะใช้กับตัวอักษร+ตัวอักษร   หรือ ตัวเลข+ตัวเลข"
      ],
      "execution_count": 64,
      "outputs": [
        {
          "output_type": "error",
          "ename": "TypeError",
          "evalue": "ignored",
          "traceback": [
            "\u001b[0;31m---------------------------------------------------------------------------\u001b[0m",
            "\u001b[0;31mTypeError\u001b[0m                                 Traceback (most recent call last)",
            "\u001b[0;32m<ipython-input-64-38fc1d5b01dc>\u001b[0m in \u001b[0;36m<module>\u001b[0;34m()\u001b[0m\n\u001b[0;32m----> 1\u001b[0;31m \u001b[0mt\u001b[0m\u001b[0;34m+\u001b[0m\u001b[0mlist_b\u001b[0m\u001b[0;34m\u001b[0m\u001b[0;34m\u001b[0m\u001b[0m\n\u001b[0m",
            "\u001b[0;31mTypeError\u001b[0m: must be str, not list"
          ]
        }
      ]
    },
    {
      "cell_type": "code",
      "metadata": {
        "colab": {
          "base_uri": "https://localhost:8080/"
        },
        "id": "w7zjXxKHsK3W",
        "outputId": "4ce7671c-5c9c-409f-b285-d5d1dfc96d90"
      },
      "source": [
        "print(list_a)\r\n",
        "print(list_b)\r\n",
        "print(list_b+list_a)"
      ],
      "execution_count": 83,
      "outputs": [
        {
          "output_type": "stream",
          "text": [
            "[]\n",
            "[111, 'c', 'งง', 1092, 'u']\n",
            "[111, 'c', 'งง', 1092, 'u']\n"
          ],
          "name": "stdout"
        }
      ]
    },
    {
      "cell_type": "markdown",
      "metadata": {
        "id": "B7Hj4XnxuFk8"
      },
      "source": [
        "## การแบ่ง string ตามสัญลักษณ์ที่กำหนด -> split string"
      ]
    },
    {
      "cell_type": "code",
      "metadata": {
        "colab": {
          "base_uri": "https://localhost:8080/",
          "height": 34
        },
        "id": "vV2t9-NtsKx0",
        "outputId": "1abb54a7-6603-4b72-b038-4efb0f9ea2e6"
      },
      "source": [
        "t"
      ],
      "execution_count": 84,
      "outputs": [
        {
          "output_type": "execute_result",
          "data": {
            "application/vnd.google.colaboratory.intrinsic+json": {
              "type": "string"
            },
            "text/plain": [
              "'python is easy'"
            ]
          },
          "metadata": {
            "tags": []
          },
          "execution_count": 84
        }
      ]
    },
    {
      "cell_type": "code",
      "metadata": {
        "colab": {
          "base_uri": "https://localhost:8080/"
        },
        "id": "Ao-Z9G3fsKti",
        "outputId": "cdc370a7-db72-4110-94e9-4f01d1fcc206"
      },
      "source": [
        "t.split(' ') #การแบ่งสมาชิกด้วย ช่องว่าง"
      ],
      "execution_count": 86,
      "outputs": [
        {
          "output_type": "execute_result",
          "data": {
            "text/plain": [
              "['python', 'is', 'easy']"
            ]
          },
          "metadata": {
            "tags": []
          },
          "execution_count": 86
        }
      ]
    },
    {
      "cell_type": "code",
      "metadata": {
        "id": "361HCQO1sKle"
      },
      "source": [
        "time='12:30:15' "
      ],
      "execution_count": 87,
      "outputs": []
    },
    {
      "cell_type": "code",
      "metadata": {
        "colab": {
          "base_uri": "https://localhost:8080/"
        },
        "id": "uhqqlzS6sKXL",
        "outputId": "777b3c16-1526-40dc-af11-0244799edbe3"
      },
      "source": [
        "time.split(':')"
      ],
      "execution_count": 88,
      "outputs": [
        {
          "output_type": "execute_result",
          "data": {
            "text/plain": [
              "['12', '30', '15']"
            ]
          },
          "metadata": {
            "tags": []
          },
          "execution_count": 88
        }
      ]
    },
    {
      "cell_type": "code",
      "metadata": {
        "colab": {
          "base_uri": "https://localhost:8080/"
        },
        "id": "_rHOMubVvBOt",
        "outputId": "6fd5052e-9e2d-4142-fdb9-95c4db789956"
      },
      "source": [
        "t_sp=t.split(' ')\r\n",
        "print(t_sp)"
      ],
      "execution_count": 91,
      "outputs": [
        {
          "output_type": "stream",
          "text": [
            "['python', 'is', 'easy']\n"
          ],
          "name": "stdout"
        }
      ]
    },
    {
      "cell_type": "code",
      "metadata": {
        "colab": {
          "base_uri": "https://localhost:8080/"
        },
        "id": "mdswvSulvBIH",
        "outputId": "d8d3485c-fa77-4bd5-d8fa-40ee12f2d0b0"
      },
      "source": [
        "# วิธีรวมกลับ\r\n",
        "print(':'.join(t_sp))"
      ],
      "execution_count": 92,
      "outputs": [
        {
          "output_type": "stream",
          "text": [
            "python:is:easy\n"
          ],
          "name": "stdout"
        }
      ]
    },
    {
      "cell_type": "markdown",
      "metadata": {
        "id": "6c6DD4TMvjwl"
      },
      "source": [
        "### HW คำนวณเวลาเป็นวินาทีของเวลาต่อไปนี้โดยใช้คำสั่ง split() ช่วย (print ออกมาให้สวยงาม)\r\n",
        " #12:30:15\r\n",
        " #13:41:07\r\n",
        " #12:53:15\r\n",
        " #00:59:25\r\n",
        " #11:11:11\r\n",
        " #16:06:09\r\n",
        " #21:12:30\r\n",
        " #10:06:15\r\n",
        " #ตัวอย่าง > 00:01:10 = 70 วินาที"
      ]
    },
    {
      "cell_type": "code",
      "metadata": {
        "colab": {
          "base_uri": "https://localhost:8080/"
        },
        "id": "jG1i46Vj4HJh",
        "outputId": "51da5138-54ca-473f-a379-701c30d2ced2"
      },
      "source": [
        "q1 ='12:30:15'\r\n",
        "q1.split(':')\r\n",
        "list_q1= [12,30,15]\r\n",
        "h=list_q1[0]*60*60    # 12 ชั่วโมง มี 43200 วินาที\r\n",
        "m=list_q1[1]*60   # 30 นาที มี 1800 วินาที\r\n",
        "s=list_q1[2]   # มี 15 วินาที\r\n",
        "Ans_q1 = h+m+s\r\n",
        "print(Ans_q1) \r\n"
      ],
      "execution_count": 166,
      "outputs": [
        {
          "output_type": "stream",
          "text": [
            "45015\n"
          ],
          "name": "stdout"
        }
      ]
    },
    {
      "cell_type": "markdown",
      "metadata": {
        "id": "taQJaDmR4ZuH"
      },
      "source": [
        "# **ตอบ** q1 =12:30:15 = 45015 วินาที\r\n",
        "\r\n",
        "---\r\n",
        "\r\n"
      ]
    },
    {
      "cell_type": "code",
      "metadata": {
        "colab": {
          "base_uri": "https://localhost:8080/"
        },
        "id": "-MeJBH4R6KES",
        "outputId": "76afb93f-6507-4f02-9301-af028873567f"
      },
      "source": [
        "q2 ='13:41:07'\r\n",
        "q2.split(':')\r\n",
        "list_q2= [13,41,7]\r\n",
        "h=list_q2[0]*60*60    \r\n",
        "m=list_q2[1]*60   \r\n",
        "s=list_q2[2]  \r\n",
        "Ans_q2 = h+m+s\r\n",
        "print(Ans_q2)"
      ],
      "execution_count": 167,
      "outputs": [
        {
          "output_type": "stream",
          "text": [
            "49267\n"
          ],
          "name": "stdout"
        }
      ]
    },
    {
      "cell_type": "markdown",
      "metadata": {
        "id": "W13jDGLS7ZD6"
      },
      "source": [
        "# **ตอบ** q2 =13:41:07 = 49261 วินาที\r\n",
        "\r\n",
        "---\r\n",
        "\r\n"
      ]
    },
    {
      "cell_type": "code",
      "metadata": {
        "colab": {
          "base_uri": "https://localhost:8080/"
        },
        "id": "9Xu9ljmx8Sfz",
        "outputId": "7aaecf3a-8760-454f-9370-0f1021f340d3"
      },
      "source": [
        "q3 ='12:53:15'\r\n",
        "q3.split(':')\r\n",
        "list_q3= [12,53,15]\r\n",
        "h=list_q3[0]*60*60    \r\n",
        "m=list_q3[1]*60   \r\n",
        "s=list_q3[2]   \r\n",
        "Ans_q3 = h+m+s\r\n",
        "print(Ans_q3)"
      ],
      "execution_count": 168,
      "outputs": [
        {
          "output_type": "stream",
          "text": [
            "46395\n"
          ],
          "name": "stdout"
        }
      ]
    },
    {
      "cell_type": "markdown",
      "metadata": {
        "id": "sOuLuTlb9QKX"
      },
      "source": [
        "#  **ตอบ** q3 = 12:53:15 = 46395 วินาที\r\n",
        "\r\n",
        "---\r\n",
        "\r\n"
      ]
    },
    {
      "cell_type": "code",
      "metadata": {
        "colab": {
          "base_uri": "https://localhost:8080/"
        },
        "id": "zh5Rkqpy-iHI",
        "outputId": "adf5d61a-dcbf-4490-dd63-5e11810c3ffe"
      },
      "source": [
        "q4 ='00:59:25'\r\n",
        "q4.split(':')\r\n",
        "list_q4= [00,59,25]\r\n",
        "h=list_q4[0]*60*60    \r\n",
        "m=list_q4[1]*60   \r\n",
        "s=list_q4[2]   \r\n",
        "Ans_q4 = h+m+s\r\n",
        "print(Ans_q4)"
      ],
      "execution_count": 156,
      "outputs": [
        {
          "output_type": "stream",
          "text": [
            "3565\n"
          ],
          "name": "stdout"
        }
      ]
    },
    {
      "cell_type": "markdown",
      "metadata": {
        "id": "U0l4byxA_BiQ"
      },
      "source": [
        "#**ตอบ** q4 = 00:59:25 = 3565 วินาที\r\n",
        "\r\n",
        "---\r\n",
        "\r\n",
        "\r\n"
      ]
    },
    {
      "cell_type": "code",
      "metadata": {
        "colab": {
          "base_uri": "https://localhost:8080/"
        },
        "id": "sV8PuWzd_TRB",
        "outputId": "d80707dd-3e9d-4591-e878-f5c32338b920"
      },
      "source": [
        "q5 ='11:11:11'\r\n",
        "q5.split(':')\r\n",
        "list_q5= [11,11,11]\r\n",
        "h=list_q5[0]*60*60    \r\n",
        "m=list_q5[1]*60   \r\n",
        "s=list_q5[2]   \r\n",
        "Ans_q5 = h+m+s\r\n",
        "print(Ans_q5)"
      ],
      "execution_count": 169,
      "outputs": [
        {
          "output_type": "stream",
          "text": [
            "40271\n"
          ],
          "name": "stdout"
        }
      ]
    },
    {
      "cell_type": "markdown",
      "metadata": {
        "id": "93eUILMG_rhC"
      },
      "source": [
        "#**ตอบ** q5 = 11:11:11 = 40271 วินาที\r\n",
        "\r\n",
        "---\r\n",
        "\r\n"
      ]
    },
    {
      "cell_type": "code",
      "metadata": {
        "colab": {
          "base_uri": "https://localhost:8080/"
        },
        "id": "IAOwhT6gAAol",
        "outputId": "374ea603-5c93-46f4-918a-6c90a53db40a"
      },
      "source": [
        "q6 ='16:06:09'\r\n",
        "q6.split(':')\r\n",
        "list_q6= [16,6,9]\r\n",
        "h=list_q6[0]*60*60    \r\n",
        "m=list_q6[1]*60   \r\n",
        "s=list_q6[2]   \r\n",
        "Ans_q6 = h+m+s\r\n",
        "print(Ans_q6)"
      ],
      "execution_count": 170,
      "outputs": [
        {
          "output_type": "stream",
          "text": [
            "57969\n"
          ],
          "name": "stdout"
        }
      ]
    },
    {
      "cell_type": "markdown",
      "metadata": {
        "id": "_7Sft8bBAbys"
      },
      "source": [
        "#**ตอบ** q6 = 16:06:09 = 57969 วินาที\r\n",
        "\r\n",
        "---"
      ]
    },
    {
      "cell_type": "code",
      "metadata": {
        "colab": {
          "base_uri": "https://localhost:8080/"
        },
        "id": "iHZHgXPTAuqq",
        "outputId": "88ed537e-4f70-4b75-ef64-b94de679fecf"
      },
      "source": [
        "q7 ='21:12:30'\r\n",
        "q7.split(':')\r\n",
        "list_q7= [21,12,30]\r\n",
        "h=list_q7[0]*60*60    \r\n",
        "m=list_q7[1]*60   \r\n",
        "s=list_q7[2]   \r\n",
        "Ans_q7 = h+m+s\r\n",
        "print(Ans_q7)"
      ],
      "execution_count": 171,
      "outputs": [
        {
          "output_type": "stream",
          "text": [
            "76350\n"
          ],
          "name": "stdout"
        }
      ]
    },
    {
      "cell_type": "markdown",
      "metadata": {
        "id": "WrZm6osJBGbN"
      },
      "source": [
        "#**ตอบ** q7 = 21:12:30 = 76350 วินาที\r\n",
        "\r\n",
        "---"
      ]
    },
    {
      "cell_type": "code",
      "metadata": {
        "colab": {
          "base_uri": "https://localhost:8080/"
        },
        "id": "Il4rAU_lBTqD",
        "outputId": "29755865-ebc8-44fb-f512-140182127571"
      },
      "source": [
        "q8 ='10:06:15'\r\n",
        "q8.split(':')\r\n",
        "list_q8= [10,6,15]\r\n",
        "h=list_q8[0]*60*60    \r\n",
        "m=list_q8[1]*60   \r\n",
        "s=list_q8[2]   \r\n",
        "Ans_q8 = h+m+s\r\n",
        "print(Ans_q8)"
      ],
      "execution_count": 172,
      "outputs": [
        {
          "output_type": "stream",
          "text": [
            "36375\n"
          ],
          "name": "stdout"
        }
      ]
    },
    {
      "cell_type": "markdown",
      "metadata": {
        "id": "Yr-LHF1SBmby"
      },
      "source": [
        "#**ตอบ** q8 = 10:06:15 = 36375 วินาที\r\n",
        "\r\n",
        "---"
      ]
    }
  ]
}