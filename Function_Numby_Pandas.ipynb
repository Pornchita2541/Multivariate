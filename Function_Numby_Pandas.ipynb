{
  "nbformat": 4,
  "nbformat_minor": 0,
  "metadata": {
    "colab": {
      "name": "Function_Numby_Pandas.ipynb",
      "provenance": [],
      "authorship_tag": "ABX9TyNo34OOB8jdAuAngTjWYwQZ",
      "include_colab_link": true
    },
    "kernelspec": {
      "name": "python3",
      "display_name": "Python 3"
    }
  },
  "cells": [
    {
      "cell_type": "markdown",
      "metadata": {
        "id": "view-in-github",
        "colab_type": "text"
      },
      "source": [
        "<a href=\"https://colab.research.google.com/github/Pornchita2541/Multivariate/blob/main/Function_Numby_Pandas.ipynb\" target=\"_parent\"><img src=\"https://colab.research.google.com/assets/colab-badge.svg\" alt=\"Open In Colab\"/></a>"
      ]
    },
    {
      "cell_type": "markdown",
      "metadata": {
        "id": "zCqnfW5WTdL2"
      },
      "source": [
        "## **Function มีส่วนสำคัญทั้งหมด 4 ส่วน**\r\n",
        "### 1. บอก python ว่าเราจะเขียฟังชัน ชื่ออะไร def function_name(): ขาดไม่ได้\r\n",
        "### 2. กำหนดตัวแปรที่จะเป็น input : ขาดไม่ได้\r\n",
        "### 3. ส่วนประมวลผล do_something with *Input* to get *Output* :ขาดไม่ได้\r\n",
        "### 4. ส่วน output return Output : ขาดไม่ได้"
      ]
    },
    {
      "cell_type": "code",
      "metadata": {
        "colab": {
          "base_uri": "https://localhost:8080/"
        },
        "id": "WfWMDmtRTONJ",
        "outputId": "3b846004-25e2-4541-ec7e-4263ff0888b7"
      },
      "source": [
        "def print_name(name,surname,ID):           # อย่าลืม :\r\n",
        "  st=f'ชื่อ {name} นามสกุล{surname} ID{ID}' # อย่าลืมกดtab\r\n",
        "  return st                                               # อย่าลืมกดtab\r\n",
        "print('outside function')"
      ],
      "execution_count": 19,
      "outputs": [
        {
          "output_type": "stream",
          "text": [
            "outside function\n"
          ],
          "name": "stdout"
        }
      ]
    },
    {
      "cell_type": "markdown",
      "metadata": {
        "id": "58zkcLfLXKWH"
      },
      "source": [
        "## การเรียกใช้ Function"
      ]
    },
    {
      "cell_type": "code",
      "metadata": {
        "colab": {
          "base_uri": "https://localhost:8080/",
          "height": 34
        },
        "id": "R6lMSWH-XIM0",
        "outputId": "7715b354-1e2c-40c8-f287-c78c9f065301"
      },
      "source": [
        "print_name(' พรชิตา', ' แสนจันทร์', ' 603021828-5')"
      ],
      "execution_count": 22,
      "outputs": [
        {
          "output_type": "execute_result",
          "data": {
            "application/vnd.google.colaboratory.intrinsic+json": {
              "type": "string"
            },
            "text/plain": [
              "'ชื่อ  พรชิตา นามสกุล แสนจันทร์ ID 603021828-5'"
            ]
          },
          "metadata": {
            "tags": []
          },
          "execution_count": 22
        }
      ]
    },
    {
      "cell_type": "markdown",
      "metadata": {
        "id": "Ltl1VOxdYyx6"
      },
      "source": [
        "### ฟังก์ชันไม่จำเป็นต้องมี output"
      ]
    },
    {
      "cell_type": "code",
      "metadata": {
        "id": "So3srRwVY5n5"
      },
      "source": [
        "def print_name2(surname,ID,name):           # อย่าลืม :\r\n",
        "  st=f'ชื่อ {name} นามสกุล {surname} ID {ID}' # อย่าลืมกดtab\r\n",
        "  print(st)"
      ],
      "execution_count": 26,
      "outputs": []
    },
    {
      "cell_type": "code",
      "metadata": {
        "colab": {
          "base_uri": "https://localhost:8080/"
        },
        "id": "jxWFd46FaykR",
        "outputId": "6e220d3d-1491-4bfb-cab8-62333eb3e3ac"
      },
      "source": [
        "print_name2('พรชิตา','แสนจันทร์','603021828-5') #ไม่ตรงตามที่ต้องการ"
      ],
      "execution_count": 27,
      "outputs": [
        {
          "output_type": "stream",
          "text": [
            "ชื่อ 603021828-5 นามสกุล พรชิตา ID แสนจันทร์\n"
          ],
          "name": "stdout"
        }
      ]
    },
    {
      "cell_type": "code",
      "metadata": {
        "colab": {
          "base_uri": "https://localhost:8080/"
        },
        "id": "I2feDABEnNCj",
        "outputId": "56ca5d44-3504-4ae3-e415-ad2f661e8a6d"
      },
      "source": [
        "op2=print_name2('พรชิตา','แสนจันทร์','603021828-5') #ไม่ตรงตามที่ต้องการ"
      ],
      "execution_count": 28,
      "outputs": [
        {
          "output_type": "stream",
          "text": [
            "ชื่อ 603021828-5 นามสกุล พรชิตา ID แสนจันทร์\n"
          ],
          "name": "stdout"
        }
      ]
    },
    {
      "cell_type": "markdown",
      "metadata": {
        "id": "jrxloVMFnsy5"
      },
      "source": [
        "### ฟังก์ชันไม่จำเป็นต้องมี input"
      ]
    },
    {
      "cell_type": "code",
      "metadata": {
        "id": "wecUhAcSoEsy"
      },
      "source": [
        "def pi():\r\n",
        "  return 3.14159265359"
      ],
      "execution_count": 30,
      "outputs": []
    },
    {
      "cell_type": "code",
      "metadata": {
        "colab": {
          "base_uri": "https://localhost:8080/"
        },
        "id": "QAbBpkW9oTvN",
        "outputId": "6daf957c-311c-447d-e1c4-f35d4d8e33c5"
      },
      "source": [
        "#คำนวณพื้นที่วงกลมที่มีขนาดเส้นผ่านศูนย์กลางเท่ากับ 3\r\n",
        "pi()*(1.5**2)"
      ],
      "execution_count": 31,
      "outputs": [
        {
          "output_type": "execute_result",
          "data": {
            "text/plain": [
              "7.0685834705775"
            ]
          },
          "metadata": {
            "tags": []
          },
          "execution_count": 31
        }
      ]
    },
    {
      "cell_type": "code",
      "metadata": {
        "id": "gNpGFqO_oloL"
      },
      "source": [
        "def print_my_name():\r\n",
        "    print('พรชิตา แสนจันทร์ ID 603021828-5')"
      ],
      "execution_count": 32,
      "outputs": []
    },
    {
      "cell_type": "code",
      "metadata": {
        "colab": {
          "base_uri": "https://localhost:8080/"
        },
        "id": "QFZNKxBeo39w",
        "outputId": "8123cb9f-1b3d-4049-ba1c-4f4aa9ab584b"
      },
      "source": [
        "print_my_name()"
      ],
      "execution_count": 33,
      "outputs": [
        {
          "output_type": "stream",
          "text": [
            "พรชิตา แสนจันทร์ ID 603021828-5\n"
          ],
          "name": "stdout"
        }
      ]
    },
    {
      "cell_type": "markdown",
      "metadata": {
        "id": "j28JI06GpASC"
      },
      "source": [
        "### input ของ function ใน python มีสองแบบ `input จำเป็นต้องใส่ กับ input ไม่จำเป็นต้องใส่ (มีค่า default) เราต้องเรียง input ที่จำเป็นใส่ขึ้นก่อน`\r\n",
        "\r\n",
        "\r\n"
      ]
    },
    {
      "cell_type": "code",
      "metadata": {
        "id": "dYlolGPrpvhL"
      },
      "source": [
        "def print_2lines_default(name, surname, ID, grade='A'):  \r\n",
        "  st=f'ชื่อ {name} นามสกุล {surname} รหัส {ID}' \r\n",
        "  print(st)\r\n",
        "  st2=f'เกรดวิชา Multivariate >>> {grade} '\r\n",
        "  print(st2)"
      ],
      "execution_count": 35,
      "outputs": []
    },
    {
      "cell_type": "code",
      "metadata": {
        "colab": {
          "base_uri": "https://localhost:8080/"
        },
        "id": "YLYJspL0q5i8",
        "outputId": "037a0cb4-3d73-4466-fbfb-1f2500ec5bed"
      },
      "source": [
        "print_2lines_default('พรชิตา' , 'แสนจันทร์' , '603021828-5')"
      ],
      "execution_count": 36,
      "outputs": [
        {
          "output_type": "stream",
          "text": [
            "ชื่อ พรชิตา นามสกุล แสนจันทร์ รหัส 603021828-5\n",
            "เกรดวิชา Multivariate >>> A \n"
          ],
          "name": "stdout"
        }
      ]
    },
    {
      "cell_type": "code",
      "metadata": {
        "colab": {
          "base_uri": "https://localhost:8080/"
        },
        "id": "CPoHfTVIrNze",
        "outputId": "fddb8e22-373d-4d1a-eb6b-931c469c9250"
      },
      "source": [
        "print_2lines_default('พรชิตา' , 'แสนจันทร์' , '603021828-5' , 'C') # หรือ"
      ],
      "execution_count": 37,
      "outputs": [
        {
          "output_type": "stream",
          "text": [
            "ชื่อ พรชิตา นามสกุล แสนจันทร์ รหัส 603021828-5\n",
            "เกรดวิชา Multivariate >>> C \n"
          ],
          "name": "stdout"
        }
      ]
    }
  ]
}